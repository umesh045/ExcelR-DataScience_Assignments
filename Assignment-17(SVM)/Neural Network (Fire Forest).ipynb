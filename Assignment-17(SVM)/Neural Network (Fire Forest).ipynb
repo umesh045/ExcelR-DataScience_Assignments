{
 "cells": [
  {
   "cell_type": "code",
   "execution_count": 2,
   "id": "5579846f",
   "metadata": {
    "ExecuteTime": {
     "end_time": "2023-03-08T17:48:40.654338Z",
     "start_time": "2023-03-08T17:48:26.877792Z"
    }
   },
   "outputs": [],
   "source": [
    "# Import Libraries\n",
    "import pandas as pd\n",
    "import numpy as np\n",
    "import seaborn as sns\n",
    "import matplotlib.pyplot as plt\n",
    "%matplotlib inline\n",
    "from sklearn.model_selection import train_test_split\n",
    "from sklearn.preprocessing import StandardScaler\n",
    "import tensorflow as tf\n",
    "from tensorflow.keras import Sequential\n",
    "from tensorflow.keras.layers import Dense\n",
    "from sklearn.model_selection import GridSearchCV \n",
    "from sklearn.metrics import classification_report\n",
    "from keras.wrappers.scikit_learn import KerasClassifier\n",
    "\n",
    "import warnings\n",
    "warnings.filterwarnings('ignore')\n"
   ]
  },
  {
   "cell_type": "code",
   "execution_count": 3,
   "id": "f9712db2",
   "metadata": {
    "ExecuteTime": {
     "end_time": "2023-03-08T17:48:40.820936Z",
     "start_time": "2023-03-08T17:48:40.701177Z"
    }
   },
   "outputs": [
    {
     "data": {
      "text/html": [
       "<div>\n",
       "<style scoped>\n",
       "    .dataframe tbody tr th:only-of-type {\n",
       "        vertical-align: middle;\n",
       "    }\n",
       "\n",
       "    .dataframe tbody tr th {\n",
       "        vertical-align: top;\n",
       "    }\n",
       "\n",
       "    .dataframe thead th {\n",
       "        text-align: right;\n",
       "    }\n",
       "</style>\n",
       "<table border=\"1\" class=\"dataframe\">\n",
       "  <thead>\n",
       "    <tr style=\"text-align: right;\">\n",
       "      <th></th>\n",
       "      <th>month</th>\n",
       "      <th>day</th>\n",
       "      <th>FFMC</th>\n",
       "      <th>DMC</th>\n",
       "      <th>DC</th>\n",
       "      <th>ISI</th>\n",
       "      <th>temp</th>\n",
       "      <th>RH</th>\n",
       "      <th>wind</th>\n",
       "      <th>rain</th>\n",
       "      <th>...</th>\n",
       "      <th>monthfeb</th>\n",
       "      <th>monthjan</th>\n",
       "      <th>monthjul</th>\n",
       "      <th>monthjun</th>\n",
       "      <th>monthmar</th>\n",
       "      <th>monthmay</th>\n",
       "      <th>monthnov</th>\n",
       "      <th>monthoct</th>\n",
       "      <th>monthsep</th>\n",
       "      <th>size_category</th>\n",
       "    </tr>\n",
       "  </thead>\n",
       "  <tbody>\n",
       "    <tr>\n",
       "      <th>0</th>\n",
       "      <td>mar</td>\n",
       "      <td>fri</td>\n",
       "      <td>86.2</td>\n",
       "      <td>26.2</td>\n",
       "      <td>94.3</td>\n",
       "      <td>5.1</td>\n",
       "      <td>8.2</td>\n",
       "      <td>51</td>\n",
       "      <td>6.7</td>\n",
       "      <td>0.0</td>\n",
       "      <td>...</td>\n",
       "      <td>0</td>\n",
       "      <td>0</td>\n",
       "      <td>0</td>\n",
       "      <td>0</td>\n",
       "      <td>1</td>\n",
       "      <td>0</td>\n",
       "      <td>0</td>\n",
       "      <td>0</td>\n",
       "      <td>0</td>\n",
       "      <td>small</td>\n",
       "    </tr>\n",
       "    <tr>\n",
       "      <th>1</th>\n",
       "      <td>oct</td>\n",
       "      <td>tue</td>\n",
       "      <td>90.6</td>\n",
       "      <td>35.4</td>\n",
       "      <td>669.1</td>\n",
       "      <td>6.7</td>\n",
       "      <td>18.0</td>\n",
       "      <td>33</td>\n",
       "      <td>0.9</td>\n",
       "      <td>0.0</td>\n",
       "      <td>...</td>\n",
       "      <td>0</td>\n",
       "      <td>0</td>\n",
       "      <td>0</td>\n",
       "      <td>0</td>\n",
       "      <td>0</td>\n",
       "      <td>0</td>\n",
       "      <td>0</td>\n",
       "      <td>1</td>\n",
       "      <td>0</td>\n",
       "      <td>small</td>\n",
       "    </tr>\n",
       "    <tr>\n",
       "      <th>2</th>\n",
       "      <td>oct</td>\n",
       "      <td>sat</td>\n",
       "      <td>90.6</td>\n",
       "      <td>43.7</td>\n",
       "      <td>686.9</td>\n",
       "      <td>6.7</td>\n",
       "      <td>14.6</td>\n",
       "      <td>33</td>\n",
       "      <td>1.3</td>\n",
       "      <td>0.0</td>\n",
       "      <td>...</td>\n",
       "      <td>0</td>\n",
       "      <td>0</td>\n",
       "      <td>0</td>\n",
       "      <td>0</td>\n",
       "      <td>0</td>\n",
       "      <td>0</td>\n",
       "      <td>0</td>\n",
       "      <td>1</td>\n",
       "      <td>0</td>\n",
       "      <td>small</td>\n",
       "    </tr>\n",
       "    <tr>\n",
       "      <th>3</th>\n",
       "      <td>mar</td>\n",
       "      <td>fri</td>\n",
       "      <td>91.7</td>\n",
       "      <td>33.3</td>\n",
       "      <td>77.5</td>\n",
       "      <td>9.0</td>\n",
       "      <td>8.3</td>\n",
       "      <td>97</td>\n",
       "      <td>4.0</td>\n",
       "      <td>0.2</td>\n",
       "      <td>...</td>\n",
       "      <td>0</td>\n",
       "      <td>0</td>\n",
       "      <td>0</td>\n",
       "      <td>0</td>\n",
       "      <td>1</td>\n",
       "      <td>0</td>\n",
       "      <td>0</td>\n",
       "      <td>0</td>\n",
       "      <td>0</td>\n",
       "      <td>small</td>\n",
       "    </tr>\n",
       "    <tr>\n",
       "      <th>4</th>\n",
       "      <td>mar</td>\n",
       "      <td>sun</td>\n",
       "      <td>89.3</td>\n",
       "      <td>51.3</td>\n",
       "      <td>102.2</td>\n",
       "      <td>9.6</td>\n",
       "      <td>11.4</td>\n",
       "      <td>99</td>\n",
       "      <td>1.8</td>\n",
       "      <td>0.0</td>\n",
       "      <td>...</td>\n",
       "      <td>0</td>\n",
       "      <td>0</td>\n",
       "      <td>0</td>\n",
       "      <td>0</td>\n",
       "      <td>1</td>\n",
       "      <td>0</td>\n",
       "      <td>0</td>\n",
       "      <td>0</td>\n",
       "      <td>0</td>\n",
       "      <td>small</td>\n",
       "    </tr>\n",
       "  </tbody>\n",
       "</table>\n",
       "<p>5 rows × 31 columns</p>\n",
       "</div>"
      ],
      "text/plain": [
       "  month  day  FFMC   DMC     DC  ISI  temp  RH  wind  rain  ...  monthfeb  \\\n",
       "0   mar  fri  86.2  26.2   94.3  5.1   8.2  51   6.7   0.0  ...         0   \n",
       "1   oct  tue  90.6  35.4  669.1  6.7  18.0  33   0.9   0.0  ...         0   \n",
       "2   oct  sat  90.6  43.7  686.9  6.7  14.6  33   1.3   0.0  ...         0   \n",
       "3   mar  fri  91.7  33.3   77.5  9.0   8.3  97   4.0   0.2  ...         0   \n",
       "4   mar  sun  89.3  51.3  102.2  9.6  11.4  99   1.8   0.0  ...         0   \n",
       "\n",
       "   monthjan  monthjul  monthjun  monthmar  monthmay  monthnov  monthoct  \\\n",
       "0         0         0         0         1         0         0         0   \n",
       "1         0         0         0         0         0         0         1   \n",
       "2         0         0         0         0         0         0         1   \n",
       "3         0         0         0         1         0         0         0   \n",
       "4         0         0         0         1         0         0         0   \n",
       "\n",
       "   monthsep  size_category  \n",
       "0         0          small  \n",
       "1         0          small  \n",
       "2         0          small  \n",
       "3         0          small  \n",
       "4         0          small  \n",
       "\n",
       "[5 rows x 31 columns]"
      ]
     },
     "execution_count": 3,
     "metadata": {},
     "output_type": "execute_result"
    }
   ],
   "source": [
    "# Import Dataset\n",
    "forest=pd.read_csv(\"forestfires.csv\")\n",
    "forest.head()"
   ]
  },
  {
   "cell_type": "code",
   "execution_count": 4,
   "id": "a8a5dae6",
   "metadata": {
    "ExecuteTime": {
     "end_time": "2023-03-08T17:48:40.837610Z",
     "start_time": "2023-03-08T17:48:40.823087Z"
    }
   },
   "outputs": [
    {
     "data": {
      "text/plain": [
       "(517, 31)"
      ]
     },
     "execution_count": 4,
     "metadata": {},
     "output_type": "execute_result"
    }
   ],
   "source": [
    "# EDA\n",
    "forest.shape"
   ]
  },
  {
   "cell_type": "code",
   "execution_count": 5,
   "id": "52af48e4",
   "metadata": {
    "ExecuteTime": {
     "end_time": "2023-03-08T17:48:40.906625Z",
     "start_time": "2023-03-08T17:48:40.837610Z"
    }
   },
   "outputs": [
    {
     "name": "stdout",
     "output_type": "stream",
     "text": [
      "<class 'pandas.core.frame.DataFrame'>\n",
      "RangeIndex: 517 entries, 0 to 516\n",
      "Data columns (total 31 columns):\n",
      " #   Column         Non-Null Count  Dtype  \n",
      "---  ------         --------------  -----  \n",
      " 0   month          517 non-null    object \n",
      " 1   day            517 non-null    object \n",
      " 2   FFMC           517 non-null    float64\n",
      " 3   DMC            517 non-null    float64\n",
      " 4   DC             517 non-null    float64\n",
      " 5   ISI            517 non-null    float64\n",
      " 6   temp           517 non-null    float64\n",
      " 7   RH             517 non-null    int64  \n",
      " 8   wind           517 non-null    float64\n",
      " 9   rain           517 non-null    float64\n",
      " 10  area           517 non-null    float64\n",
      " 11  dayfri         517 non-null    int64  \n",
      " 12  daymon         517 non-null    int64  \n",
      " 13  daysat         517 non-null    int64  \n",
      " 14  daysun         517 non-null    int64  \n",
      " 15  daythu         517 non-null    int64  \n",
      " 16  daytue         517 non-null    int64  \n",
      " 17  daywed         517 non-null    int64  \n",
      " 18  monthapr       517 non-null    int64  \n",
      " 19  monthaug       517 non-null    int64  \n",
      " 20  monthdec       517 non-null    int64  \n",
      " 21  monthfeb       517 non-null    int64  \n",
      " 22  monthjan       517 non-null    int64  \n",
      " 23  monthjul       517 non-null    int64  \n",
      " 24  monthjun       517 non-null    int64  \n",
      " 25  monthmar       517 non-null    int64  \n",
      " 26  monthmay       517 non-null    int64  \n",
      " 27  monthnov       517 non-null    int64  \n",
      " 28  monthoct       517 non-null    int64  \n",
      " 29  monthsep       517 non-null    int64  \n",
      " 30  size_category  517 non-null    object \n",
      "dtypes: float64(8), int64(20), object(3)\n",
      "memory usage: 125.3+ KB\n"
     ]
    }
   ],
   "source": [
    "forest.info()"
   ]
  },
  {
   "cell_type": "code",
   "execution_count": 6,
   "id": "145af02a",
   "metadata": {
    "ExecuteTime": {
     "end_time": "2023-03-08T17:48:40.948286Z",
     "start_time": "2023-03-08T17:48:40.916276Z"
    }
   },
   "outputs": [
    {
     "data": {
      "text/plain": [
       "month            0\n",
       "day              0\n",
       "FFMC             0\n",
       "DMC              0\n",
       "DC               0\n",
       "ISI              0\n",
       "temp             0\n",
       "RH               0\n",
       "wind             0\n",
       "rain             0\n",
       "area             0\n",
       "dayfri           0\n",
       "daymon           0\n",
       "daysat           0\n",
       "daysun           0\n",
       "daythu           0\n",
       "daytue           0\n",
       "daywed           0\n",
       "monthapr         0\n",
       "monthaug         0\n",
       "monthdec         0\n",
       "monthfeb         0\n",
       "monthjan         0\n",
       "monthjul         0\n",
       "monthjun         0\n",
       "monthmar         0\n",
       "monthmay         0\n",
       "monthnov         0\n",
       "monthoct         0\n",
       "monthsep         0\n",
       "size_category    0\n",
       "dtype: int64"
      ]
     },
     "execution_count": 6,
     "metadata": {},
     "output_type": "execute_result"
    }
   ],
   "source": [
    "forest.isna().sum()"
   ]
  },
  {
   "cell_type": "code",
   "execution_count": 7,
   "id": "a5fb3215",
   "metadata": {
    "ExecuteTime": {
     "end_time": "2023-03-08T17:48:40.978987Z",
     "start_time": "2023-03-08T17:48:40.948286Z"
    }
   },
   "outputs": [
    {
     "data": {
      "text/plain": [
       "month             12\n",
       "day                7\n",
       "FFMC             106\n",
       "DMC              215\n",
       "DC               219\n",
       "ISI              119\n",
       "temp             192\n",
       "RH                75\n",
       "wind              21\n",
       "rain               7\n",
       "area             251\n",
       "dayfri             2\n",
       "daymon             2\n",
       "daysat             2\n",
       "daysun             2\n",
       "daythu             2\n",
       "daytue             2\n",
       "daywed             2\n",
       "monthapr           2\n",
       "monthaug           2\n",
       "monthdec           2\n",
       "monthfeb           2\n",
       "monthjan           2\n",
       "monthjul           2\n",
       "monthjun           2\n",
       "monthmar           2\n",
       "monthmay           2\n",
       "monthnov           2\n",
       "monthoct           2\n",
       "monthsep           2\n",
       "size_category      2\n",
       "dtype: int64"
      ]
     },
     "execution_count": 7,
     "metadata": {},
     "output_type": "execute_result"
    }
   ],
   "source": [
    "forest.nunique()"
   ]
  },
  {
   "cell_type": "code",
   "execution_count": 8,
   "id": "4c97b82a",
   "metadata": {
    "ExecuteTime": {
     "end_time": "2023-03-08T17:48:41.010994Z",
     "start_time": "2023-03-08T17:48:40.978987Z"
    }
   },
   "outputs": [],
   "source": [
    "data = forest.drop([\"month\", \"day\"], axis = 1)"
   ]
  },
  {
   "cell_type": "code",
   "execution_count": 9,
   "id": "061555c7",
   "metadata": {
    "ExecuteTime": {
     "end_time": "2023-03-08T17:48:41.170533Z",
     "start_time": "2023-03-08T17:48:41.010994Z"
    }
   },
   "outputs": [
    {
     "data": {
      "text/html": [
       "<div>\n",
       "<style scoped>\n",
       "    .dataframe tbody tr th:only-of-type {\n",
       "        vertical-align: middle;\n",
       "    }\n",
       "\n",
       "    .dataframe tbody tr th {\n",
       "        vertical-align: top;\n",
       "    }\n",
       "\n",
       "    .dataframe thead th {\n",
       "        text-align: right;\n",
       "    }\n",
       "</style>\n",
       "<table border=\"1\" class=\"dataframe\">\n",
       "  <thead>\n",
       "    <tr style=\"text-align: right;\">\n",
       "      <th></th>\n",
       "      <th>count</th>\n",
       "      <th>mean</th>\n",
       "      <th>std</th>\n",
       "      <th>min</th>\n",
       "      <th>25%</th>\n",
       "      <th>50%</th>\n",
       "      <th>75%</th>\n",
       "      <th>max</th>\n",
       "    </tr>\n",
       "  </thead>\n",
       "  <tbody>\n",
       "    <tr>\n",
       "      <th>FFMC</th>\n",
       "      <td>517.0</td>\n",
       "      <td>90.644681</td>\n",
       "      <td>5.520111</td>\n",
       "      <td>18.7</td>\n",
       "      <td>90.2</td>\n",
       "      <td>91.60</td>\n",
       "      <td>92.90</td>\n",
       "      <td>96.20</td>\n",
       "    </tr>\n",
       "    <tr>\n",
       "      <th>DMC</th>\n",
       "      <td>517.0</td>\n",
       "      <td>110.872340</td>\n",
       "      <td>64.046482</td>\n",
       "      <td>1.1</td>\n",
       "      <td>68.6</td>\n",
       "      <td>108.30</td>\n",
       "      <td>142.40</td>\n",
       "      <td>291.30</td>\n",
       "    </tr>\n",
       "    <tr>\n",
       "      <th>DC</th>\n",
       "      <td>517.0</td>\n",
       "      <td>547.940039</td>\n",
       "      <td>248.066192</td>\n",
       "      <td>7.9</td>\n",
       "      <td>437.7</td>\n",
       "      <td>664.20</td>\n",
       "      <td>713.90</td>\n",
       "      <td>860.60</td>\n",
       "    </tr>\n",
       "    <tr>\n",
       "      <th>ISI</th>\n",
       "      <td>517.0</td>\n",
       "      <td>9.021663</td>\n",
       "      <td>4.559477</td>\n",
       "      <td>0.0</td>\n",
       "      <td>6.5</td>\n",
       "      <td>8.40</td>\n",
       "      <td>10.80</td>\n",
       "      <td>56.10</td>\n",
       "    </tr>\n",
       "    <tr>\n",
       "      <th>temp</th>\n",
       "      <td>517.0</td>\n",
       "      <td>18.889168</td>\n",
       "      <td>5.806625</td>\n",
       "      <td>2.2</td>\n",
       "      <td>15.5</td>\n",
       "      <td>19.30</td>\n",
       "      <td>22.80</td>\n",
       "      <td>33.30</td>\n",
       "    </tr>\n",
       "    <tr>\n",
       "      <th>RH</th>\n",
       "      <td>517.0</td>\n",
       "      <td>44.288201</td>\n",
       "      <td>16.317469</td>\n",
       "      <td>15.0</td>\n",
       "      <td>33.0</td>\n",
       "      <td>42.00</td>\n",
       "      <td>53.00</td>\n",
       "      <td>100.00</td>\n",
       "    </tr>\n",
       "    <tr>\n",
       "      <th>wind</th>\n",
       "      <td>517.0</td>\n",
       "      <td>4.017602</td>\n",
       "      <td>1.791653</td>\n",
       "      <td>0.4</td>\n",
       "      <td>2.7</td>\n",
       "      <td>4.00</td>\n",
       "      <td>4.90</td>\n",
       "      <td>9.40</td>\n",
       "    </tr>\n",
       "    <tr>\n",
       "      <th>rain</th>\n",
       "      <td>517.0</td>\n",
       "      <td>0.021663</td>\n",
       "      <td>0.295959</td>\n",
       "      <td>0.0</td>\n",
       "      <td>0.0</td>\n",
       "      <td>0.00</td>\n",
       "      <td>0.00</td>\n",
       "      <td>6.40</td>\n",
       "    </tr>\n",
       "    <tr>\n",
       "      <th>area</th>\n",
       "      <td>517.0</td>\n",
       "      <td>12.847292</td>\n",
       "      <td>63.655818</td>\n",
       "      <td>0.0</td>\n",
       "      <td>0.0</td>\n",
       "      <td>0.52</td>\n",
       "      <td>6.57</td>\n",
       "      <td>1090.84</td>\n",
       "    </tr>\n",
       "    <tr>\n",
       "      <th>dayfri</th>\n",
       "      <td>517.0</td>\n",
       "      <td>0.164410</td>\n",
       "      <td>0.371006</td>\n",
       "      <td>0.0</td>\n",
       "      <td>0.0</td>\n",
       "      <td>0.00</td>\n",
       "      <td>0.00</td>\n",
       "      <td>1.00</td>\n",
       "    </tr>\n",
       "    <tr>\n",
       "      <th>daymon</th>\n",
       "      <td>517.0</td>\n",
       "      <td>0.143133</td>\n",
       "      <td>0.350548</td>\n",
       "      <td>0.0</td>\n",
       "      <td>0.0</td>\n",
       "      <td>0.00</td>\n",
       "      <td>0.00</td>\n",
       "      <td>1.00</td>\n",
       "    </tr>\n",
       "    <tr>\n",
       "      <th>daysat</th>\n",
       "      <td>517.0</td>\n",
       "      <td>0.162476</td>\n",
       "      <td>0.369244</td>\n",
       "      <td>0.0</td>\n",
       "      <td>0.0</td>\n",
       "      <td>0.00</td>\n",
       "      <td>0.00</td>\n",
       "      <td>1.00</td>\n",
       "    </tr>\n",
       "    <tr>\n",
       "      <th>daysun</th>\n",
       "      <td>517.0</td>\n",
       "      <td>0.183752</td>\n",
       "      <td>0.387657</td>\n",
       "      <td>0.0</td>\n",
       "      <td>0.0</td>\n",
       "      <td>0.00</td>\n",
       "      <td>0.00</td>\n",
       "      <td>1.00</td>\n",
       "    </tr>\n",
       "    <tr>\n",
       "      <th>daythu</th>\n",
       "      <td>517.0</td>\n",
       "      <td>0.117988</td>\n",
       "      <td>0.322907</td>\n",
       "      <td>0.0</td>\n",
       "      <td>0.0</td>\n",
       "      <td>0.00</td>\n",
       "      <td>0.00</td>\n",
       "      <td>1.00</td>\n",
       "    </tr>\n",
       "    <tr>\n",
       "      <th>daytue</th>\n",
       "      <td>517.0</td>\n",
       "      <td>0.123791</td>\n",
       "      <td>0.329662</td>\n",
       "      <td>0.0</td>\n",
       "      <td>0.0</td>\n",
       "      <td>0.00</td>\n",
       "      <td>0.00</td>\n",
       "      <td>1.00</td>\n",
       "    </tr>\n",
       "    <tr>\n",
       "      <th>daywed</th>\n",
       "      <td>517.0</td>\n",
       "      <td>0.104449</td>\n",
       "      <td>0.306138</td>\n",
       "      <td>0.0</td>\n",
       "      <td>0.0</td>\n",
       "      <td>0.00</td>\n",
       "      <td>0.00</td>\n",
       "      <td>1.00</td>\n",
       "    </tr>\n",
       "    <tr>\n",
       "      <th>monthapr</th>\n",
       "      <td>517.0</td>\n",
       "      <td>0.017408</td>\n",
       "      <td>0.130913</td>\n",
       "      <td>0.0</td>\n",
       "      <td>0.0</td>\n",
       "      <td>0.00</td>\n",
       "      <td>0.00</td>\n",
       "      <td>1.00</td>\n",
       "    </tr>\n",
       "    <tr>\n",
       "      <th>monthaug</th>\n",
       "      <td>517.0</td>\n",
       "      <td>0.355899</td>\n",
       "      <td>0.479249</td>\n",
       "      <td>0.0</td>\n",
       "      <td>0.0</td>\n",
       "      <td>0.00</td>\n",
       "      <td>1.00</td>\n",
       "      <td>1.00</td>\n",
       "    </tr>\n",
       "    <tr>\n",
       "      <th>monthdec</th>\n",
       "      <td>517.0</td>\n",
       "      <td>0.017408</td>\n",
       "      <td>0.130913</td>\n",
       "      <td>0.0</td>\n",
       "      <td>0.0</td>\n",
       "      <td>0.00</td>\n",
       "      <td>0.00</td>\n",
       "      <td>1.00</td>\n",
       "    </tr>\n",
       "    <tr>\n",
       "      <th>monthfeb</th>\n",
       "      <td>517.0</td>\n",
       "      <td>0.038685</td>\n",
       "      <td>0.193029</td>\n",
       "      <td>0.0</td>\n",
       "      <td>0.0</td>\n",
       "      <td>0.00</td>\n",
       "      <td>0.00</td>\n",
       "      <td>1.00</td>\n",
       "    </tr>\n",
       "    <tr>\n",
       "      <th>monthjan</th>\n",
       "      <td>517.0</td>\n",
       "      <td>0.003868</td>\n",
       "      <td>0.062137</td>\n",
       "      <td>0.0</td>\n",
       "      <td>0.0</td>\n",
       "      <td>0.00</td>\n",
       "      <td>0.00</td>\n",
       "      <td>1.00</td>\n",
       "    </tr>\n",
       "    <tr>\n",
       "      <th>monthjul</th>\n",
       "      <td>517.0</td>\n",
       "      <td>0.061896</td>\n",
       "      <td>0.241199</td>\n",
       "      <td>0.0</td>\n",
       "      <td>0.0</td>\n",
       "      <td>0.00</td>\n",
       "      <td>0.00</td>\n",
       "      <td>1.00</td>\n",
       "    </tr>\n",
       "    <tr>\n",
       "      <th>monthjun</th>\n",
       "      <td>517.0</td>\n",
       "      <td>0.032882</td>\n",
       "      <td>0.178500</td>\n",
       "      <td>0.0</td>\n",
       "      <td>0.0</td>\n",
       "      <td>0.00</td>\n",
       "      <td>0.00</td>\n",
       "      <td>1.00</td>\n",
       "    </tr>\n",
       "    <tr>\n",
       "      <th>monthmar</th>\n",
       "      <td>517.0</td>\n",
       "      <td>0.104449</td>\n",
       "      <td>0.306138</td>\n",
       "      <td>0.0</td>\n",
       "      <td>0.0</td>\n",
       "      <td>0.00</td>\n",
       "      <td>0.00</td>\n",
       "      <td>1.00</td>\n",
       "    </tr>\n",
       "    <tr>\n",
       "      <th>monthmay</th>\n",
       "      <td>517.0</td>\n",
       "      <td>0.003868</td>\n",
       "      <td>0.062137</td>\n",
       "      <td>0.0</td>\n",
       "      <td>0.0</td>\n",
       "      <td>0.00</td>\n",
       "      <td>0.00</td>\n",
       "      <td>1.00</td>\n",
       "    </tr>\n",
       "    <tr>\n",
       "      <th>monthnov</th>\n",
       "      <td>517.0</td>\n",
       "      <td>0.001934</td>\n",
       "      <td>0.043980</td>\n",
       "      <td>0.0</td>\n",
       "      <td>0.0</td>\n",
       "      <td>0.00</td>\n",
       "      <td>0.00</td>\n",
       "      <td>1.00</td>\n",
       "    </tr>\n",
       "    <tr>\n",
       "      <th>monthoct</th>\n",
       "      <td>517.0</td>\n",
       "      <td>0.029014</td>\n",
       "      <td>0.168007</td>\n",
       "      <td>0.0</td>\n",
       "      <td>0.0</td>\n",
       "      <td>0.00</td>\n",
       "      <td>0.00</td>\n",
       "      <td>1.00</td>\n",
       "    </tr>\n",
       "    <tr>\n",
       "      <th>monthsep</th>\n",
       "      <td>517.0</td>\n",
       "      <td>0.332689</td>\n",
       "      <td>0.471632</td>\n",
       "      <td>0.0</td>\n",
       "      <td>0.0</td>\n",
       "      <td>0.00</td>\n",
       "      <td>1.00</td>\n",
       "      <td>1.00</td>\n",
       "    </tr>\n",
       "  </tbody>\n",
       "</table>\n",
       "</div>"
      ],
      "text/plain": [
       "          count        mean         std   min    25%     50%     75%      max\n",
       "FFMC      517.0   90.644681    5.520111  18.7   90.2   91.60   92.90    96.20\n",
       "DMC       517.0  110.872340   64.046482   1.1   68.6  108.30  142.40   291.30\n",
       "DC        517.0  547.940039  248.066192   7.9  437.7  664.20  713.90   860.60\n",
       "ISI       517.0    9.021663    4.559477   0.0    6.5    8.40   10.80    56.10\n",
       "temp      517.0   18.889168    5.806625   2.2   15.5   19.30   22.80    33.30\n",
       "RH        517.0   44.288201   16.317469  15.0   33.0   42.00   53.00   100.00\n",
       "wind      517.0    4.017602    1.791653   0.4    2.7    4.00    4.90     9.40\n",
       "rain      517.0    0.021663    0.295959   0.0    0.0    0.00    0.00     6.40\n",
       "area      517.0   12.847292   63.655818   0.0    0.0    0.52    6.57  1090.84\n",
       "dayfri    517.0    0.164410    0.371006   0.0    0.0    0.00    0.00     1.00\n",
       "daymon    517.0    0.143133    0.350548   0.0    0.0    0.00    0.00     1.00\n",
       "daysat    517.0    0.162476    0.369244   0.0    0.0    0.00    0.00     1.00\n",
       "daysun    517.0    0.183752    0.387657   0.0    0.0    0.00    0.00     1.00\n",
       "daythu    517.0    0.117988    0.322907   0.0    0.0    0.00    0.00     1.00\n",
       "daytue    517.0    0.123791    0.329662   0.0    0.0    0.00    0.00     1.00\n",
       "daywed    517.0    0.104449    0.306138   0.0    0.0    0.00    0.00     1.00\n",
       "monthapr  517.0    0.017408    0.130913   0.0    0.0    0.00    0.00     1.00\n",
       "monthaug  517.0    0.355899    0.479249   0.0    0.0    0.00    1.00     1.00\n",
       "monthdec  517.0    0.017408    0.130913   0.0    0.0    0.00    0.00     1.00\n",
       "monthfeb  517.0    0.038685    0.193029   0.0    0.0    0.00    0.00     1.00\n",
       "monthjan  517.0    0.003868    0.062137   0.0    0.0    0.00    0.00     1.00\n",
       "monthjul  517.0    0.061896    0.241199   0.0    0.0    0.00    0.00     1.00\n",
       "monthjun  517.0    0.032882    0.178500   0.0    0.0    0.00    0.00     1.00\n",
       "monthmar  517.0    0.104449    0.306138   0.0    0.0    0.00    0.00     1.00\n",
       "monthmay  517.0    0.003868    0.062137   0.0    0.0    0.00    0.00     1.00\n",
       "monthnov  517.0    0.001934    0.043980   0.0    0.0    0.00    0.00     1.00\n",
       "monthoct  517.0    0.029014    0.168007   0.0    0.0    0.00    0.00     1.00\n",
       "monthsep  517.0    0.332689    0.471632   0.0    0.0    0.00    1.00     1.00"
      ]
     },
     "execution_count": 9,
     "metadata": {},
     "output_type": "execute_result"
    }
   ],
   "source": [
    "data.describe().T"
   ]
  },
  {
   "cell_type": "code",
   "execution_count": 10,
   "id": "566e642c",
   "metadata": {
    "ExecuteTime": {
     "end_time": "2023-03-08T17:48:41.186300Z",
     "start_time": "2023-03-08T17:48:41.177744Z"
    }
   },
   "outputs": [
    {
     "data": {
      "text/plain": [
       "Index(['FFMC', 'DMC', 'DC', 'ISI', 'temp', 'RH', 'wind', 'rain', 'area',\n",
       "       'dayfri', 'daymon', 'daysat', 'daysun', 'daythu', 'daytue', 'daywed',\n",
       "       'monthapr', 'monthaug', 'monthdec', 'monthfeb', 'monthjan', 'monthjul',\n",
       "       'monthjun', 'monthmar', 'monthmay', 'monthnov', 'monthoct', 'monthsep',\n",
       "       'size_category'],\n",
       "      dtype='object')"
      ]
     },
     "execution_count": 10,
     "metadata": {},
     "output_type": "execute_result"
    }
   ],
   "source": [
    "data.columns"
   ]
  },
  {
   "cell_type": "code",
   "execution_count": 11,
   "id": "1bdb6850",
   "metadata": {
    "ExecuteTime": {
     "end_time": "2023-03-08T17:48:41.220974Z",
     "start_time": "2023-03-08T17:48:41.191126Z"
    }
   },
   "outputs": [
    {
     "data": {
      "text/plain": [
       "FFMC             float64\n",
       "DMC              float64\n",
       "DC               float64\n",
       "ISI              float64\n",
       "temp             float64\n",
       "RH                 int64\n",
       "wind             float64\n",
       "rain             float64\n",
       "area             float64\n",
       "dayfri             int64\n",
       "daymon             int64\n",
       "daysat             int64\n",
       "daysun             int64\n",
       "daythu             int64\n",
       "daytue             int64\n",
       "daywed             int64\n",
       "monthapr           int64\n",
       "monthaug           int64\n",
       "monthdec           int64\n",
       "monthfeb           int64\n",
       "monthjan           int64\n",
       "monthjul           int64\n",
       "monthjun           int64\n",
       "monthmar           int64\n",
       "monthmay           int64\n",
       "monthnov           int64\n",
       "monthoct           int64\n",
       "monthsep           int64\n",
       "size_category     object\n",
       "dtype: object"
      ]
     },
     "execution_count": 11,
     "metadata": {},
     "output_type": "execute_result"
    }
   ],
   "source": [
    "data.dtypes"
   ]
  },
  {
   "cell_type": "code",
   "execution_count": 12,
   "id": "0cfdd5bd",
   "metadata": {
    "ExecuteTime": {
     "end_time": "2023-03-08T17:48:41.237572Z",
     "start_time": "2023-03-08T17:48:41.220974Z"
    }
   },
   "outputs": [],
   "source": [
    "# Encoding\n",
    "from sklearn.preprocessing import LabelEncoder\n",
    "le=LabelEncoder()"
   ]
  },
  {
   "cell_type": "code",
   "execution_count": 13,
   "id": "ce4da2ca",
   "metadata": {
    "ExecuteTime": {
     "end_time": "2023-03-08T17:48:41.294554Z",
     "start_time": "2023-03-08T17:48:41.245568Z"
    }
   },
   "outputs": [
    {
     "data": {
      "text/html": [
       "<div>\n",
       "<style scoped>\n",
       "    .dataframe tbody tr th:only-of-type {\n",
       "        vertical-align: middle;\n",
       "    }\n",
       "\n",
       "    .dataframe tbody tr th {\n",
       "        vertical-align: top;\n",
       "    }\n",
       "\n",
       "    .dataframe thead th {\n",
       "        text-align: right;\n",
       "    }\n",
       "</style>\n",
       "<table border=\"1\" class=\"dataframe\">\n",
       "  <thead>\n",
       "    <tr style=\"text-align: right;\">\n",
       "      <th></th>\n",
       "      <th>FFMC</th>\n",
       "      <th>DMC</th>\n",
       "      <th>DC</th>\n",
       "      <th>ISI</th>\n",
       "      <th>temp</th>\n",
       "      <th>RH</th>\n",
       "      <th>wind</th>\n",
       "      <th>rain</th>\n",
       "      <th>area</th>\n",
       "      <th>dayfri</th>\n",
       "      <th>...</th>\n",
       "      <th>monthfeb</th>\n",
       "      <th>monthjan</th>\n",
       "      <th>monthjul</th>\n",
       "      <th>monthjun</th>\n",
       "      <th>monthmar</th>\n",
       "      <th>monthmay</th>\n",
       "      <th>monthnov</th>\n",
       "      <th>monthoct</th>\n",
       "      <th>monthsep</th>\n",
       "      <th>size_category</th>\n",
       "    </tr>\n",
       "  </thead>\n",
       "  <tbody>\n",
       "    <tr>\n",
       "      <th>0</th>\n",
       "      <td>86.2</td>\n",
       "      <td>26.2</td>\n",
       "      <td>94.3</td>\n",
       "      <td>5.1</td>\n",
       "      <td>8.2</td>\n",
       "      <td>51</td>\n",
       "      <td>6.7</td>\n",
       "      <td>0.0</td>\n",
       "      <td>0.0</td>\n",
       "      <td>1</td>\n",
       "      <td>...</td>\n",
       "      <td>0</td>\n",
       "      <td>0</td>\n",
       "      <td>0</td>\n",
       "      <td>0</td>\n",
       "      <td>1</td>\n",
       "      <td>0</td>\n",
       "      <td>0</td>\n",
       "      <td>0</td>\n",
       "      <td>0</td>\n",
       "      <td>1</td>\n",
       "    </tr>\n",
       "    <tr>\n",
       "      <th>1</th>\n",
       "      <td>90.6</td>\n",
       "      <td>35.4</td>\n",
       "      <td>669.1</td>\n",
       "      <td>6.7</td>\n",
       "      <td>18.0</td>\n",
       "      <td>33</td>\n",
       "      <td>0.9</td>\n",
       "      <td>0.0</td>\n",
       "      <td>0.0</td>\n",
       "      <td>0</td>\n",
       "      <td>...</td>\n",
       "      <td>0</td>\n",
       "      <td>0</td>\n",
       "      <td>0</td>\n",
       "      <td>0</td>\n",
       "      <td>0</td>\n",
       "      <td>0</td>\n",
       "      <td>0</td>\n",
       "      <td>1</td>\n",
       "      <td>0</td>\n",
       "      <td>1</td>\n",
       "    </tr>\n",
       "    <tr>\n",
       "      <th>2</th>\n",
       "      <td>90.6</td>\n",
       "      <td>43.7</td>\n",
       "      <td>686.9</td>\n",
       "      <td>6.7</td>\n",
       "      <td>14.6</td>\n",
       "      <td>33</td>\n",
       "      <td>1.3</td>\n",
       "      <td>0.0</td>\n",
       "      <td>0.0</td>\n",
       "      <td>0</td>\n",
       "      <td>...</td>\n",
       "      <td>0</td>\n",
       "      <td>0</td>\n",
       "      <td>0</td>\n",
       "      <td>0</td>\n",
       "      <td>0</td>\n",
       "      <td>0</td>\n",
       "      <td>0</td>\n",
       "      <td>1</td>\n",
       "      <td>0</td>\n",
       "      <td>1</td>\n",
       "    </tr>\n",
       "    <tr>\n",
       "      <th>3</th>\n",
       "      <td>91.7</td>\n",
       "      <td>33.3</td>\n",
       "      <td>77.5</td>\n",
       "      <td>9.0</td>\n",
       "      <td>8.3</td>\n",
       "      <td>97</td>\n",
       "      <td>4.0</td>\n",
       "      <td>0.2</td>\n",
       "      <td>0.0</td>\n",
       "      <td>1</td>\n",
       "      <td>...</td>\n",
       "      <td>0</td>\n",
       "      <td>0</td>\n",
       "      <td>0</td>\n",
       "      <td>0</td>\n",
       "      <td>1</td>\n",
       "      <td>0</td>\n",
       "      <td>0</td>\n",
       "      <td>0</td>\n",
       "      <td>0</td>\n",
       "      <td>1</td>\n",
       "    </tr>\n",
       "    <tr>\n",
       "      <th>4</th>\n",
       "      <td>89.3</td>\n",
       "      <td>51.3</td>\n",
       "      <td>102.2</td>\n",
       "      <td>9.6</td>\n",
       "      <td>11.4</td>\n",
       "      <td>99</td>\n",
       "      <td>1.8</td>\n",
       "      <td>0.0</td>\n",
       "      <td>0.0</td>\n",
       "      <td>0</td>\n",
       "      <td>...</td>\n",
       "      <td>0</td>\n",
       "      <td>0</td>\n",
       "      <td>0</td>\n",
       "      <td>0</td>\n",
       "      <td>1</td>\n",
       "      <td>0</td>\n",
       "      <td>0</td>\n",
       "      <td>0</td>\n",
       "      <td>0</td>\n",
       "      <td>1</td>\n",
       "    </tr>\n",
       "  </tbody>\n",
       "</table>\n",
       "<p>5 rows × 29 columns</p>\n",
       "</div>"
      ],
      "text/plain": [
       "   FFMC   DMC     DC  ISI  temp  RH  wind  rain  area  dayfri  ...  monthfeb  \\\n",
       "0  86.2  26.2   94.3  5.1   8.2  51   6.7   0.0   0.0       1  ...         0   \n",
       "1  90.6  35.4  669.1  6.7  18.0  33   0.9   0.0   0.0       0  ...         0   \n",
       "2  90.6  43.7  686.9  6.7  14.6  33   1.3   0.0   0.0       0  ...         0   \n",
       "3  91.7  33.3   77.5  9.0   8.3  97   4.0   0.2   0.0       1  ...         0   \n",
       "4  89.3  51.3  102.2  9.6  11.4  99   1.8   0.0   0.0       0  ...         0   \n",
       "\n",
       "   monthjan  monthjul  monthjun  monthmar  monthmay  monthnov  monthoct  \\\n",
       "0         0         0         0         1         0         0         0   \n",
       "1         0         0         0         0         0         0         1   \n",
       "2         0         0         0         0         0         0         1   \n",
       "3         0         0         0         1         0         0         0   \n",
       "4         0         0         0         1         0         0         0   \n",
       "\n",
       "   monthsep  size_category  \n",
       "0         0              1  \n",
       "1         0              1  \n",
       "2         0              1  \n",
       "3         0              1  \n",
       "4         0              1  \n",
       "\n",
       "[5 rows x 29 columns]"
      ]
     },
     "execution_count": 13,
     "metadata": {},
     "output_type": "execute_result"
    }
   ],
   "source": [
    "data[\"size_category\"] = le.fit_transform(data[\"size_category\"])\n",
    "data.head()"
   ]
  },
  {
   "cell_type": "code",
   "execution_count": 14,
   "id": "fc79e0d4",
   "metadata": {
    "ExecuteTime": {
     "end_time": "2023-03-08T17:48:41.328198Z",
     "start_time": "2023-03-08T17:48:41.295733Z"
    }
   },
   "outputs": [
    {
     "data": {
      "text/plain": [
       "1    378\n",
       "0    139\n",
       "Name: size_category, dtype: int64"
      ]
     },
     "execution_count": 14,
     "metadata": {},
     "output_type": "execute_result"
    }
   ],
   "source": [
    "data.size_category.value_counts()"
   ]
  },
  {
   "cell_type": "code",
   "execution_count": 15,
   "id": "94eed880",
   "metadata": {
    "ExecuteTime": {
     "end_time": "2023-03-08T17:48:41.894063Z",
     "start_time": "2023-03-08T17:48:41.337623Z"
    }
   },
   "outputs": [
    {
     "data": {
      "text/plain": [
       "<Axes: xlabel='size_category', ylabel='Density'>"
      ]
     },
     "execution_count": 15,
     "metadata": {},
     "output_type": "execute_result"
    },
    {
     "data": {
      "image/png": "[encoded data removed]",
      "text/plain": [
       "<Figure size 640x480 with 1 Axes>"
      ]
     },
     "metadata": {},
     "output_type": "display_data"
    }
   ],
   "source": [
    "sns.distplot(data.size_category)"
   ]
  },
  {
   "cell_type": "code",
   "execution_count": 16,
   "id": "7d14f4a8",
   "metadata": {
    "ExecuteTime": {
     "end_time": "2023-03-08T17:48:41.910075Z",
     "start_time": "2023-03-08T17:48:41.894063Z"
    }
   },
   "outputs": [],
   "source": [
    "# Define X and Y variable\n",
    "x = data.iloc[:,0:28]\n",
    "y = data.iloc[:,28]"
   ]
  },
  {
   "cell_type": "code",
   "execution_count": 17,
   "id": "45b83b0e",
   "metadata": {
    "ExecuteTime": {
     "end_time": "2023-03-08T17:48:41.937653Z",
     "start_time": "2023-03-08T17:48:41.920841Z"
    }
   },
   "outputs": [
    {
     "data": {
      "text/plain": [
       "0      1\n",
       "1      1\n",
       "2      1\n",
       "3      1\n",
       "4      1\n",
       "      ..\n",
       "512    0\n",
       "513    0\n",
       "514    0\n",
       "515    1\n",
       "516    1\n",
       "Name: size_category, Length: 517, dtype: int32"
      ]
     },
     "execution_count": 17,
     "metadata": {},
     "output_type": "execute_result"
    }
   ],
   "source": [
    "y"
   ]
  },
  {
   "cell_type": "markdown",
   "id": "6284ba31",
   "metadata": {},
   "source": [
    "### StandardScaler"
   ]
  },
  {
   "cell_type": "code",
   "execution_count": 18,
   "id": "a8172890",
   "metadata": {
    "ExecuteTime": {
     "end_time": "2023-03-08T17:48:41.961653Z",
     "start_time": "2023-03-08T17:48:41.937653Z"
    }
   },
   "outputs": [],
   "source": [
    "sc = StandardScaler()\n",
    "x = sc.fit_transform(x)"
   ]
  },
  {
   "cell_type": "markdown",
   "id": "2ba80cd4",
   "metadata": {},
   "source": [
    "### Train-Test Split"
   ]
  },
  {
   "cell_type": "code",
   "execution_count": 19,
   "id": "3c029946",
   "metadata": {
    "ExecuteTime": {
     "end_time": "2023-03-08T17:48:41.987382Z",
     "start_time": "2023-03-08T17:48:41.961653Z"
    }
   },
   "outputs": [],
   "source": [
    "xtrain,xtest,ytrain,ytest = train_test_split(x,y,test_size=0.2, random_state=1)"
   ]
  },
  {
   "cell_type": "markdown",
   "id": "8fef00ab",
   "metadata": {},
   "source": [
    "###  ANN"
   ]
  },
  {
   "cell_type": "code",
   "execution_count": 20,
   "id": "a5508656",
   "metadata": {
    "ExecuteTime": {
     "end_time": "2023-03-08T17:48:47.787209Z",
     "start_time": "2023-03-08T17:48:41.988937Z"
    }
   },
   "outputs": [
    {
     "name": "stdout",
     "output_type": "stream",
     "text": [
      "Epoch 1/50\n",
      "13/13 [==============================] - 2s 6ms/step - loss: 0.7207 - accuracy: 0.5763\n",
      "Epoch 2/50\n",
      "13/13 [==============================] - 0s 5ms/step - loss: 0.6987 - accuracy: 0.6005\n",
      "Epoch 3/50\n",
      "13/13 [==============================] - 0s 4ms/step - loss: 0.6802 - accuracy: 0.6247\n",
      "Epoch 4/50\n",
      "13/13 [==============================] - 0s 5ms/step - loss: 0.6632 - accuracy: 0.6489\n",
      "Epoch 5/50\n",
      "13/13 [==============================] - 0s 4ms/step - loss: 0.6495 - accuracy: 0.6586\n",
      "Epoch 6/50\n",
      "13/13 [==============================] - 0s 4ms/step - loss: 0.6374 - accuracy: 0.6659\n",
      "Epoch 7/50\n",
      "13/13 [==============================] - 0s 4ms/step - loss: 0.6261 - accuracy: 0.6852\n",
      "Epoch 8/50\n",
      "13/13 [==============================] - 0s 4ms/step - loss: 0.6164 - accuracy: 0.6901\n",
      "Epoch 9/50\n",
      "13/13 [==============================] - 0s 4ms/step - loss: 0.6070 - accuracy: 0.6973\n",
      "Epoch 10/50\n",
      "13/13 [==============================] - 0s 4ms/step - loss: 0.5993 - accuracy: 0.7070\n",
      "Epoch 11/50\n",
      "13/13 [==============================] - 0s 5ms/step - loss: 0.5925 - accuracy: 0.7167\n",
      "Epoch 12/50\n",
      "13/13 [==============================] - 0s 6ms/step - loss: 0.5861 - accuracy: 0.7191\n",
      "Epoch 13/50\n",
      "13/13 [==============================] - 0s 4ms/step - loss: 0.5803 - accuracy: 0.7264\n",
      "Epoch 14/50\n",
      "13/13 [==============================] - 0s 4ms/step - loss: 0.5739 - accuracy: 0.7240\n",
      "Epoch 15/50\n",
      "13/13 [==============================] - 0s 4ms/step - loss: 0.5688 - accuracy: 0.7288\n",
      "Epoch 16/50\n",
      "13/13 [==============================] - 0s 4ms/step - loss: 0.5637 - accuracy: 0.7264\n",
      "Epoch 17/50\n",
      "13/13 [==============================] - 0s 8ms/step - loss: 0.5590 - accuracy: 0.7337\n",
      "Epoch 18/50\n",
      "13/13 [==============================] - 0s 4ms/step - loss: 0.5540 - accuracy: 0.7337\n",
      "Epoch 19/50\n",
      "13/13 [==============================] - 0s 6ms/step - loss: 0.5493 - accuracy: 0.7312\n",
      "Epoch 20/50\n",
      "13/13 [==============================] - 0s 4ms/step - loss: 0.5447 - accuracy: 0.7361\n",
      "Epoch 21/50\n",
      "13/13 [==============================] - 0s 5ms/step - loss: 0.5404 - accuracy: 0.7409\n",
      "Epoch 22/50\n",
      "13/13 [==============================] - 0s 4ms/step - loss: 0.5358 - accuracy: 0.7409\n",
      "Epoch 23/50\n",
      "13/13 [==============================] - 0s 5ms/step - loss: 0.5320 - accuracy: 0.7433\n",
      "Epoch 24/50\n",
      "13/13 [==============================] - 0s 6ms/step - loss: 0.5278 - accuracy: 0.7482\n",
      "Epoch 25/50\n",
      "13/13 [==============================] - 0s 5ms/step - loss: 0.5236 - accuracy: 0.7530\n",
      "Epoch 26/50\n",
      "13/13 [==============================] - 0s 4ms/step - loss: 0.5197 - accuracy: 0.7579\n",
      "Epoch 27/50\n",
      "13/13 [==============================] - 0s 5ms/step - loss: 0.5155 - accuracy: 0.7579\n",
      "Epoch 28/50\n",
      "13/13 [==============================] - 0s 6ms/step - loss: 0.5120 - accuracy: 0.7603\n",
      "Epoch 29/50\n",
      "13/13 [==============================] - 0s 4ms/step - loss: 0.5082 - accuracy: 0.7603\n",
      "Epoch 30/50\n",
      "13/13 [==============================] - 0s 4ms/step - loss: 0.5047 - accuracy: 0.7603\n",
      "Epoch 31/50\n",
      "13/13 [==============================] - 0s 4ms/step - loss: 0.5012 - accuracy: 0.7603\n",
      "Epoch 32/50\n",
      "13/13 [==============================] - 0s 5ms/step - loss: 0.4978 - accuracy: 0.7627\n",
      "Epoch 33/50\n",
      "13/13 [==============================] - 0s 6ms/step - loss: 0.4945 - accuracy: 0.7651\n",
      "Epoch 34/50\n",
      "13/13 [==============================] - 0s 4ms/step - loss: 0.4913 - accuracy: 0.7651\n",
      "Epoch 35/50\n",
      "13/13 [==============================] - 0s 4ms/step - loss: 0.4880 - accuracy: 0.7676\n",
      "Epoch 36/50\n",
      "13/13 [==============================] - 0s 5ms/step - loss: 0.4848 - accuracy: 0.7700\n",
      "Epoch 37/50\n",
      "13/13 [==============================] - 0s 6ms/step - loss: 0.4818 - accuracy: 0.7772\n",
      "Epoch 38/50\n",
      "13/13 [==============================] - 0s 35ms/step - loss: 0.4786 - accuracy: 0.7772\n",
      "Epoch 39/50\n",
      "13/13 [==============================] - 0s 4ms/step - loss: 0.4756 - accuracy: 0.7772\n",
      "Epoch 40/50\n",
      "13/13 [==============================] - 0s 4ms/step - loss: 0.4727 - accuracy: 0.7772\n",
      "Epoch 41/50\n",
      "13/13 [==============================] - 0s 5ms/step - loss: 0.4698 - accuracy: 0.7772\n",
      "Epoch 42/50\n",
      "13/13 [==============================] - 0s 6ms/step - loss: 0.4668 - accuracy: 0.7772\n",
      "Epoch 43/50\n",
      "13/13 [==============================] - 0s 6ms/step - loss: 0.4639 - accuracy: 0.7772\n",
      "Epoch 44/50\n",
      "13/13 [==============================] - 0s 5ms/step - loss: 0.4614 - accuracy: 0.7772\n",
      "Epoch 45/50\n",
      "13/13 [==============================] - 0s 6ms/step - loss: 0.4583 - accuracy: 0.7797\n",
      "Epoch 46/50\n",
      "13/13 [==============================] - 0s 6ms/step - loss: 0.4556 - accuracy: 0.7797\n",
      "Epoch 47/50\n",
      "13/13 [==============================] - 0s 6ms/step - loss: 0.4527 - accuracy: 0.7821\n",
      "Epoch 48/50\n",
      "13/13 [==============================] - 0s 6ms/step - loss: 0.4503 - accuracy: 0.7845\n",
      "Epoch 49/50\n",
      "13/13 [==============================] - 0s 5ms/step - loss: 0.4475 - accuracy: 0.7845\n",
      "Epoch 50/50\n",
      "13/13 [==============================] - 0s 6ms/step - loss: 0.4451 - accuracy: 0.7845\n"
     ]
    },
    {
     "data": {
      "text/plain": [
       "<keras.callbacks.History at 0x2782f761fd0>"
      ]
     },
     "execution_count": 20,
     "metadata": {},
     "output_type": "execute_result"
    }
   ],
   "source": [
    "#Initialize ann model\n",
    "ann = Sequential()\n",
    "\n",
    "#Add hidden layers\n",
    "ann.add(Dense(units=6, activation='relu'))\n",
    "\n",
    "#Add output layer\n",
    "ann.add(Dense(units=1,activation='sigmoid'))\n",
    "\n",
    "#Establish the connection between layers\n",
    "ann.compile(optimizer='adam',loss='binary_crossentropy',metrics=['accuracy'])\n",
    "\n",
    "#Fit the data \n",
    "ann.fit(xtrain,ytrain,epochs=50)"
   ]
  },
  {
   "cell_type": "code",
   "execution_count": 21,
   "id": "6cd2dec5",
   "metadata": {
    "ExecuteTime": {
     "end_time": "2023-03-08T17:48:48.236682Z",
     "start_time": "2023-03-08T17:48:47.790603Z"
    }
   },
   "outputs": [
    {
     "name": "stdout",
     "output_type": "stream",
     "text": [
      "4/4 [==============================] - 0s 4ms/step\n"
     ]
    },
    {
     "data": {
      "text/plain": [
       "array([[ True],\n",
       "       [ True],\n",
       "       [ True],\n",
       "       [ True],\n",
       "       [ True],\n",
       "       [ True],\n",
       "       [ True],\n",
       "       [ True],\n",
       "       [ True],\n",
       "       [ True],\n",
       "       [ True],\n",
       "       [ True],\n",
       "       [ True],\n",
       "       [ True],\n",
       "       [ True],\n",
       "       [ True],\n",
       "       [ True],\n",
       "       [ True],\n",
       "       [ True],\n",
       "       [ True],\n",
       "       [ True],\n",
       "       [ True],\n",
       "       [ True],\n",
       "       [ True],\n",
       "       [ True],\n",
       "       [ True],\n",
       "       [ True],\n",
       "       [ True],\n",
       "       [ True],\n",
       "       [ True],\n",
       "       [ True],\n",
       "       [ True],\n",
       "       [ True],\n",
       "       [ True],\n",
       "       [False],\n",
       "       [ True],\n",
       "       [ True],\n",
       "       [ True],\n",
       "       [ True],\n",
       "       [ True],\n",
       "       [ True],\n",
       "       [ True],\n",
       "       [ True],\n",
       "       [ True],\n",
       "       [ True],\n",
       "       [ True],\n",
       "       [ True],\n",
       "       [ True],\n",
       "       [ True],\n",
       "       [ True],\n",
       "       [ True],\n",
       "       [False],\n",
       "       [ True],\n",
       "       [ True],\n",
       "       [ True],\n",
       "       [ True],\n",
       "       [ True],\n",
       "       [ True],\n",
       "       [ True],\n",
       "       [ True],\n",
       "       [ True],\n",
       "       [ True],\n",
       "       [ True],\n",
       "       [ True],\n",
       "       [ True],\n",
       "       [ True],\n",
       "       [ True],\n",
       "       [ True],\n",
       "       [ True],\n",
       "       [ True],\n",
       "       [False],\n",
       "       [ True],\n",
       "       [ True],\n",
       "       [ True],\n",
       "       [ True],\n",
       "       [ True],\n",
       "       [ True],\n",
       "       [ True],\n",
       "       [ True],\n",
       "       [ True],\n",
       "       [ True],\n",
       "       [ True],\n",
       "       [ True],\n",
       "       [ True],\n",
       "       [ True],\n",
       "       [ True],\n",
       "       [ True],\n",
       "       [ True],\n",
       "       [ True],\n",
       "       [False],\n",
       "       [ True],\n",
       "       [ True],\n",
       "       [ True],\n",
       "       [ True],\n",
       "       [ True],\n",
       "       [ True],\n",
       "       [ True],\n",
       "       [ True],\n",
       "       [ True],\n",
       "       [ True],\n",
       "       [ True],\n",
       "       [ True],\n",
       "       [ True],\n",
       "       [ True]])"
      ]
     },
     "execution_count": 21,
     "metadata": {},
     "output_type": "execute_result"
    }
   ],
   "source": [
    "ypred = ann.predict(xtest)\n",
    "ypred=ypred>0.5\n",
    "ypred\n"
   ]
  },
  {
   "cell_type": "code",
   "execution_count": 22,
   "id": "880db237",
   "metadata": {
    "ExecuteTime": {
     "end_time": "2023-03-08T17:48:48.303349Z",
     "start_time": "2023-03-08T17:48:48.240430Z"
    }
   },
   "outputs": [
    {
     "name": "stdout",
     "output_type": "stream",
     "text": [
      "              precision    recall  f1-score   support\n",
      "\n",
      "           0       1.00      0.14      0.24        29\n",
      "           1       0.75      1.00      0.86        75\n",
      "\n",
      "    accuracy                           0.76       104\n",
      "   macro avg       0.88      0.57      0.55       104\n",
      "weighted avg       0.82      0.76      0.69       104\n",
      "\n"
     ]
    }
   ],
   "source": [
    "print(classification_report(ytest,ypred))"
   ]
  },
  {
   "cell_type": "markdown",
   "id": "438df326",
   "metadata": {},
   "source": [
    "# 1 ] Tuning batch and epoch"
   ]
  },
  {
   "cell_type": "code",
   "execution_count": 23,
   "id": "74f30a02",
   "metadata": {
    "ExecuteTime": {
     "end_time": "2023-03-08T17:48:48.334905Z",
     "start_time": "2023-03-08T17:48:48.308344Z"
    }
   },
   "outputs": [],
   "source": [
    "# Function to create model,for KerasClassifier\n",
    "def create_my_model():\n",
    "    #defining my model\n",
    "    mymodel = Sequential()\n",
    "    mymodel.add(Dense(12, input_dim=28, activation='relu'))\n",
    "    mymodel.add(Dense(1, activation='sigmoid'))\n",
    "    \n",
    "    # Compile the model\n",
    "    mymodel.compile(loss='binary_crossentropy', optimizer='adam', metrics=['accuracy'])\n",
    "    return mymodel"
   ]
  },
  {
   "cell_type": "code",
   "execution_count": 24,
   "id": "b484a0cc",
   "metadata": {
    "ExecuteTime": {
     "end_time": "2023-03-08T17:48:48.369839Z",
     "start_time": "2023-03-08T17:48:48.343082Z"
    }
   },
   "outputs": [],
   "source": [
    "# create model\n",
    "model = KerasClassifier(build_fn=create_my_model)"
   ]
  },
  {
   "cell_type": "code",
   "execution_count": 25,
   "id": "de881211",
   "metadata": {
    "ExecuteTime": {
     "end_time": "2023-03-08T17:48:48.387185Z",
     "start_time": "2023-03-08T17:48:48.373672Z"
    }
   },
   "outputs": [],
   "source": [
    "## Hyperparameter Tunning\n",
    "batchSize =[10, 20, 40, 60, 80, 100]\n",
    "epochs = [10, 30, 50,70]"
   ]
  },
  {
   "cell_type": "code",
   "execution_count": 26,
   "id": "8167dd3f",
   "metadata": {
    "ExecuteTime": {
     "end_time": "2023-03-08T17:48:48.408738Z",
     "start_time": "2023-03-08T17:48:48.393212Z"
    }
   },
   "outputs": [],
   "source": [
    "parameter_grid = dict(batch_size=batchSize, epochs=epochs)"
   ]
  },
  {
   "cell_type": "code",
   "execution_count": 27,
   "id": "b406262e",
   "metadata": {
    "ExecuteTime": {
     "end_time": "2023-03-08T17:48:48.424981Z",
     "start_time": "2023-03-08T17:48:48.409772Z"
    }
   },
   "outputs": [],
   "source": [
    "from sklearn.model_selection import GridSearchCV\n",
    "grid = GridSearchCV(model, param_grid=parameter_grid, n_jobs=-1, cv=3)"
   ]
  },
  {
   "cell_type": "code",
   "execution_count": 28,
   "id": "1e2517e9",
   "metadata": {
    "ExecuteTime": {
     "end_time": "2023-03-08T17:50:28.146678Z",
     "start_time": "2023-03-08T17:48:48.424981Z"
    }
   },
   "outputs": [
    {
     "name": "stdout",
     "output_type": "stream",
     "text": [
      "Epoch 1/70\n",
      "42/42 [==============================] - 2s 4ms/step - loss: 0.7686 - accuracy: 0.4262\n",
      "Epoch 2/70\n",
      "42/42 [==============================] - 0s 5ms/step - loss: 0.6869 - accuracy: 0.5763\n",
      "Epoch 3/70\n",
      "42/42 [==============================] - 0s 4ms/step - loss: 0.6333 - accuracy: 0.6949\n",
      "Epoch 4/70\n",
      "42/42 [==============================] - 0s 5ms/step - loss: 0.5954 - accuracy: 0.7409\n",
      "Epoch 5/70\n",
      "42/42 [==============================] - 0s 6ms/step - loss: 0.5698 - accuracy: 0.7506\n",
      "Epoch 6/70\n",
      "42/42 [==============================] - 0s 5ms/step - loss: 0.5514 - accuracy: 0.7530\n",
      "Epoch 7/70\n",
      "42/42 [==============================] - 0s 4ms/step - loss: 0.5384 - accuracy: 0.7506\n",
      "Epoch 8/70\n",
      "42/42 [==============================] - 0s 4ms/step - loss: 0.5266 - accuracy: 0.7506\n",
      "Epoch 9/70\n",
      "42/42 [==============================] - 0s 4ms/step - loss: 0.5170 - accuracy: 0.7506\n",
      "Epoch 10/70\n",
      "42/42 [==============================] - 0s 4ms/step - loss: 0.5073 - accuracy: 0.7530\n",
      "Epoch 11/70\n",
      "42/42 [==============================] - 0s 4ms/step - loss: 0.4987 - accuracy: 0.7603\n",
      "Epoch 12/70\n",
      "42/42 [==============================] - 0s 4ms/step - loss: 0.4899 - accuracy: 0.7627\n",
      "Epoch 13/70\n",
      "42/42 [==============================] - 0s 4ms/step - loss: 0.4832 - accuracy: 0.7676\n",
      "Epoch 14/70\n",
      "42/42 [==============================] - 0s 5ms/step - loss: 0.4761 - accuracy: 0.7748\n",
      "Epoch 15/70\n",
      "42/42 [==============================] - 0s 4ms/step - loss: 0.4687 - accuracy: 0.7772\n",
      "Epoch 16/70\n",
      "42/42 [==============================] - 0s 4ms/step - loss: 0.4613 - accuracy: 0.7797\n",
      "Epoch 17/70\n",
      "42/42 [==============================] - 0s 4ms/step - loss: 0.4553 - accuracy: 0.7821\n",
      "Epoch 18/70\n",
      "42/42 [==============================] - 0s 3ms/step - loss: 0.4479 - accuracy: 0.7869\n",
      "Epoch 19/70\n",
      "42/42 [==============================] - 0s 4ms/step - loss: 0.4416 - accuracy: 0.7893\n",
      "Epoch 20/70\n",
      "42/42 [==============================] - 0s 4ms/step - loss: 0.4355 - accuracy: 0.7893\n",
      "Epoch 21/70\n",
      "42/42 [==============================] - 0s 3ms/step - loss: 0.4291 - accuracy: 0.7990\n",
      "Epoch 22/70\n",
      "42/42 [==============================] - 0s 4ms/step - loss: 0.4230 - accuracy: 0.7990\n",
      "Epoch 23/70\n",
      "42/42 [==============================] - 0s 4ms/step - loss: 0.4172 - accuracy: 0.8015\n",
      "Epoch 24/70\n",
      "42/42 [==============================] - 0s 3ms/step - loss: 0.4107 - accuracy: 0.8063\n",
      "Epoch 25/70\n",
      "42/42 [==============================] - 0s 4ms/step - loss: 0.4041 - accuracy: 0.8087\n",
      "Epoch 26/70\n",
      "42/42 [==============================] - 0s 4ms/step - loss: 0.3983 - accuracy: 0.8111\n",
      "Epoch 27/70\n",
      "42/42 [==============================] - 0s 4ms/step - loss: 0.3916 - accuracy: 0.8136\n",
      "Epoch 28/70\n",
      "42/42 [==============================] - 0s 4ms/step - loss: 0.3853 - accuracy: 0.8160\n",
      "Epoch 29/70\n",
      "42/42 [==============================] - 0s 4ms/step - loss: 0.3807 - accuracy: 0.8232\n",
      "Epoch 30/70\n",
      "42/42 [==============================] - 0s 4ms/step - loss: 0.3743 - accuracy: 0.8354\n",
      "Epoch 31/70\n",
      "42/42 [==============================] - 0s 4ms/step - loss: 0.3680 - accuracy: 0.8378\n",
      "Epoch 32/70\n",
      "42/42 [==============================] - 0s 3ms/step - loss: 0.3612 - accuracy: 0.8329\n",
      "Epoch 33/70\n",
      "42/42 [==============================] - 0s 4ms/step - loss: 0.3556 - accuracy: 0.8378\n",
      "Epoch 34/70\n",
      "42/42 [==============================] - 0s 3ms/step - loss: 0.3496 - accuracy: 0.8426\n",
      "Epoch 35/70\n",
      "42/42 [==============================] - 0s 3ms/step - loss: 0.3439 - accuracy: 0.8450\n",
      "Epoch 36/70\n",
      "42/42 [==============================] - 0s 2ms/step - loss: 0.3379 - accuracy: 0.8499\n",
      "Epoch 37/70\n",
      "42/42 [==============================] - 0s 2ms/step - loss: 0.3323 - accuracy: 0.8596\n",
      "Epoch 38/70\n",
      "42/42 [==============================] - 0s 3ms/step - loss: 0.3267 - accuracy: 0.8620\n",
      "Epoch 39/70\n",
      "42/42 [==============================] - 0s 4ms/step - loss: 0.3205 - accuracy: 0.8547\n",
      "Epoch 40/70\n",
      "42/42 [==============================] - 0s 4ms/step - loss: 0.3144 - accuracy: 0.8644\n",
      "Epoch 41/70\n",
      "42/42 [==============================] - 0s 3ms/step - loss: 0.3098 - accuracy: 0.8668\n",
      "Epoch 42/70\n",
      "42/42 [==============================] - 0s 3ms/step - loss: 0.3043 - accuracy: 0.8692\n",
      "Epoch 43/70\n",
      "42/42 [==============================] - 0s 3ms/step - loss: 0.2983 - accuracy: 0.8717\n",
      "Epoch 44/70\n",
      "42/42 [==============================] - 0s 4ms/step - loss: 0.2934 - accuracy: 0.8741\n",
      "Epoch 45/70\n",
      "42/42 [==============================] - 0s 3ms/step - loss: 0.2874 - accuracy: 0.8741\n",
      "Epoch 46/70\n",
      "42/42 [==============================] - 0s 4ms/step - loss: 0.2827 - accuracy: 0.8862\n",
      "Epoch 47/70\n",
      "42/42 [==============================] - 0s 4ms/step - loss: 0.2771 - accuracy: 0.8862\n",
      "Epoch 48/70\n",
      "42/42 [==============================] - 0s 4ms/step - loss: 0.2725 - accuracy: 0.8935\n",
      "Epoch 49/70\n",
      "42/42 [==============================] - 0s 5ms/step - loss: 0.2673 - accuracy: 0.8959\n",
      "Epoch 50/70\n",
      "42/42 [==============================] - 0s 4ms/step - loss: 0.2642 - accuracy: 0.8935\n",
      "Epoch 51/70\n",
      "42/42 [==============================] - 0s 4ms/step - loss: 0.2586 - accuracy: 0.9031\n",
      "Epoch 52/70\n",
      "42/42 [==============================] - 0s 4ms/step - loss: 0.2540 - accuracy: 0.9056\n",
      "Epoch 53/70\n",
      "42/42 [==============================] - 0s 4ms/step - loss: 0.2487 - accuracy: 0.9128\n",
      "Epoch 54/70\n",
      "42/42 [==============================] - 0s 3ms/step - loss: 0.2436 - accuracy: 0.9104\n",
      "Epoch 55/70\n",
      "42/42 [==============================] - 0s 3ms/step - loss: 0.2402 - accuracy: 0.9104\n",
      "Epoch 56/70\n",
      "42/42 [==============================] - 0s 3ms/step - loss: 0.2355 - accuracy: 0.9177\n",
      "Epoch 57/70\n",
      "42/42 [==============================] - 0s 4ms/step - loss: 0.2311 - accuracy: 0.9177\n",
      "Epoch 58/70\n",
      "42/42 [==============================] - 0s 4ms/step - loss: 0.2282 - accuracy: 0.9177\n",
      "Epoch 59/70\n",
      "42/42 [==============================] - 0s 3ms/step - loss: 0.2226 - accuracy: 0.9201\n",
      "Epoch 60/70\n",
      "42/42 [==============================] - 0s 3ms/step - loss: 0.2189 - accuracy: 0.9225\n",
      "Epoch 61/70\n",
      "42/42 [==============================] - 0s 4ms/step - loss: 0.2142 - accuracy: 0.9201\n",
      "Epoch 62/70\n",
      "42/42 [==============================] - 0s 4ms/step - loss: 0.2106 - accuracy: 0.9249\n",
      "Epoch 63/70\n",
      "42/42 [==============================] - 0s 4ms/step - loss: 0.2066 - accuracy: 0.9249\n",
      "Epoch 64/70\n",
      "42/42 [==============================] - 0s 4ms/step - loss: 0.2025 - accuracy: 0.9249\n",
      "Epoch 65/70\n",
      "42/42 [==============================] - 0s 4ms/step - loss: 0.1998 - accuracy: 0.9249\n",
      "Epoch 66/70\n",
      "42/42 [==============================] - 0s 4ms/step - loss: 0.1951 - accuracy: 0.9249\n",
      "Epoch 67/70\n",
      "42/42 [==============================] - 0s 4ms/step - loss: 0.1918 - accuracy: 0.9249\n",
      "Epoch 68/70\n",
      "42/42 [==============================] - 0s 4ms/step - loss: 0.1887 - accuracy: 0.9274\n",
      "Epoch 69/70\n",
      "42/42 [==============================] - 0s 4ms/step - loss: 0.1860 - accuracy: 0.9322\n",
      "Epoch 70/70\n",
      "42/42 [==============================] - 0s 4ms/step - loss: 0.1819 - accuracy: 0.9298\n"
     ]
    }
   ],
   "source": [
    "grid_result=grid.fit(xtrain,ytrain)"
   ]
  },
  {
   "cell_type": "code",
   "execution_count": 29,
   "id": "130f960e",
   "metadata": {
    "ExecuteTime": {
     "end_time": "2023-03-08T17:50:28.189392Z",
     "start_time": "2023-03-08T17:50:28.162666Z"
    }
   },
   "outputs": [
    {
     "name": "stdout",
     "output_type": "stream",
     "text": [
      "Best: 0.820851 using {'batch_size': 10, 'epochs': 70}\n"
     ]
    }
   ],
   "source": [
    "# summarize results\n",
    "print(\"Best: %f using %s\" % (grid_result.best_score_, grid_result.best_params_))"
   ]
  },
  {
   "cell_type": "markdown",
   "id": "1c7aa389",
   "metadata": {},
   "source": [
    "# 2 ] Optimizing Activation Function"
   ]
  },
  {
   "cell_type": "code",
   "execution_count": 30,
   "id": "4712e058",
   "metadata": {
    "ExecuteTime": {
     "end_time": "2023-03-08T17:50:28.222823Z",
     "start_time": "2023-03-08T17:50:28.199643Z"
    }
   },
   "outputs": [],
   "source": [
    "# Function to create model\n",
    "def create_my_model(optimizer='adam'):\n",
    "    # create model\n",
    "    mymodel = Sequential()\n",
    "    mymodel.add(Dense(12, input_dim=28, activation='relu'))\n",
    "    mymodel.add(Dense(1, activation='sigmoid'))\n",
    "    # Compile model\n",
    "    mymodel.compile(loss='binary_crossentropy', optimizer=optimizer, metrics=['accuracy'])\n",
    "    return mymodel"
   ]
  },
  {
   "cell_type": "code",
   "execution_count": 31,
   "id": "527493c1",
   "metadata": {
    "ExecuteTime": {
     "end_time": "2023-03-08T17:50:28.256310Z",
     "start_time": "2023-03-08T17:50:28.226623Z"
    }
   },
   "outputs": [],
   "source": [
    "# create model\n",
    "model = KerasClassifier(build_fn=create_my_model, epochs=70, batch_size=10)"
   ]
  },
  {
   "cell_type": "code",
   "execution_count": 32,
   "id": "6b58a9a1",
   "metadata": {
    "ExecuteTime": {
     "end_time": "2023-03-08T17:50:28.289418Z",
     "start_time": "2023-03-08T17:50:28.262108Z"
    }
   },
   "outputs": [],
   "source": [
    "# define the grid search parameters\n",
    "optimizer = ['SGD','Adadelta', 'RMSprop', 'Adagrad','Adam']\n",
    "parameter_grid = dict(optimizer=optimizer)"
   ]
  },
  {
   "cell_type": "code",
   "execution_count": 33,
   "id": "16b9d611",
   "metadata": {
    "ExecuteTime": {
     "end_time": "2023-03-08T17:50:28.326826Z",
     "start_time": "2023-03-08T17:50:28.294431Z"
    }
   },
   "outputs": [],
   "source": [
    "grid = GridSearchCV(estimator=model, param_grid=parameter_grid, n_jobs=-1, cv=3)"
   ]
  },
  {
   "cell_type": "code",
   "execution_count": 34,
   "id": "ab3090c4",
   "metadata": {
    "ExecuteTime": {
     "end_time": "2023-03-08T17:51:19.763305Z",
     "start_time": "2023-03-08T17:50:28.330022Z"
    }
   },
   "outputs": [
    {
     "name": "stdout",
     "output_type": "stream",
     "text": [
      "Epoch 1/70\n",
      "42/42 [==============================] - 2s 5ms/step - loss: 0.7956 - accuracy: 0.4915\n",
      "Epoch 2/70\n",
      "42/42 [==============================] - 0s 4ms/step - loss: 0.7111 - accuracy: 0.5932\n",
      "Epoch 3/70\n",
      "42/42 [==============================] - 0s 4ms/step - loss: 0.6557 - accuracy: 0.6804\n",
      "Epoch 4/70\n",
      "42/42 [==============================] - 0s 4ms/step - loss: 0.6154 - accuracy: 0.7094\n",
      "Epoch 5/70\n",
      "42/42 [==============================] - 0s 3ms/step - loss: 0.5877 - accuracy: 0.7361\n",
      "Epoch 6/70\n",
      "42/42 [==============================] - 0s 4ms/step - loss: 0.5677 - accuracy: 0.7433\n",
      "Epoch 7/70\n",
      "42/42 [==============================] - 0s 5ms/step - loss: 0.5510 - accuracy: 0.7554\n",
      "Epoch 8/70\n",
      "42/42 [==============================] - 0s 4ms/step - loss: 0.5371 - accuracy: 0.7603\n",
      "Epoch 9/70\n",
      "42/42 [==============================] - 0s 4ms/step - loss: 0.5240 - accuracy: 0.7700\n",
      "Epoch 10/70\n",
      "42/42 [==============================] - 0s 3ms/step - loss: 0.5115 - accuracy: 0.7700\n",
      "Epoch 11/70\n",
      "42/42 [==============================] - 0s 3ms/step - loss: 0.5008 - accuracy: 0.7772\n",
      "Epoch 12/70\n",
      "42/42 [==============================] - 0s 4ms/step - loss: 0.4896 - accuracy: 0.7797\n",
      "Epoch 13/70\n",
      "42/42 [==============================] - 0s 3ms/step - loss: 0.4816 - accuracy: 0.7845\n",
      "Epoch 14/70\n",
      "42/42 [==============================] - 0s 4ms/step - loss: 0.4733 - accuracy: 0.7893\n",
      "Epoch 15/70\n",
      "42/42 [==============================] - 0s 4ms/step - loss: 0.4637 - accuracy: 0.7918\n",
      "Epoch 16/70\n",
      "42/42 [==============================] - 0s 6ms/step - loss: 0.4558 - accuracy: 0.7942\n",
      "Epoch 17/70\n",
      "42/42 [==============================] - 0s 5ms/step - loss: 0.4480 - accuracy: 0.7893\n",
      "Epoch 18/70\n",
      "42/42 [==============================] - 0s 7ms/step - loss: 0.4407 - accuracy: 0.7966\n",
      "Epoch 19/70\n",
      "42/42 [==============================] - 0s 5ms/step - loss: 0.4339 - accuracy: 0.7990\n",
      "Epoch 20/70\n",
      "42/42 [==============================] - 0s 6ms/step - loss: 0.4270 - accuracy: 0.8015\n",
      "Epoch 21/70\n",
      "42/42 [==============================] - 0s 6ms/step - loss: 0.4200 - accuracy: 0.8087\n",
      "Epoch 22/70\n",
      "42/42 [==============================] - 0s 6ms/step - loss: 0.4136 - accuracy: 0.8160\n",
      "Epoch 23/70\n",
      "42/42 [==============================] - 0s 6ms/step - loss: 0.4076 - accuracy: 0.8136\n",
      "Epoch 24/70\n",
      "42/42 [==============================] - 0s 6ms/step - loss: 0.4007 - accuracy: 0.8160\n",
      "Epoch 25/70\n",
      "42/42 [==============================] - 0s 4ms/step - loss: 0.3942 - accuracy: 0.8208\n",
      "Epoch 26/70\n",
      "42/42 [==============================] - 0s 3ms/step - loss: 0.3881 - accuracy: 0.8232\n",
      "Epoch 27/70\n",
      "42/42 [==============================] - 0s 2ms/step - loss: 0.3819 - accuracy: 0.8257\n",
      "Epoch 28/70\n",
      "42/42 [==============================] - 0s 2ms/step - loss: 0.3755 - accuracy: 0.8354\n",
      "Epoch 29/70\n",
      "42/42 [==============================] - 0s 3ms/step - loss: 0.3706 - accuracy: 0.8354\n",
      "Epoch 30/70\n",
      "42/42 [==============================] - 0s 3ms/step - loss: 0.3645 - accuracy: 0.8354\n",
      "Epoch 31/70\n",
      "42/42 [==============================] - 0s 3ms/step - loss: 0.3575 - accuracy: 0.8426\n",
      "Epoch 32/70\n",
      "42/42 [==============================] - 0s 2ms/step - loss: 0.3521 - accuracy: 0.8426\n",
      "Epoch 33/70\n",
      "42/42 [==============================] - 0s 4ms/step - loss: 0.3463 - accuracy: 0.8426\n",
      "Epoch 34/70\n",
      "42/42 [==============================] - 0s 5ms/step - loss: 0.3420 - accuracy: 0.8475\n",
      "Epoch 35/70\n",
      "42/42 [==============================] - 0s 4ms/step - loss: 0.3352 - accuracy: 0.8547\n",
      "Epoch 36/70\n",
      "42/42 [==============================] - 0s 3ms/step - loss: 0.3300 - accuracy: 0.8547\n",
      "Epoch 37/70\n",
      "42/42 [==============================] - 0s 4ms/step - loss: 0.3245 - accuracy: 0.8620\n",
      "Epoch 38/70\n",
      "42/42 [==============================] - 0s 4ms/step - loss: 0.3194 - accuracy: 0.8620\n",
      "Epoch 39/70\n",
      "42/42 [==============================] - 0s 4ms/step - loss: 0.3132 - accuracy: 0.8644\n",
      "Epoch 40/70\n",
      "42/42 [==============================] - 0s 3ms/step - loss: 0.3076 - accuracy: 0.8717\n",
      "Epoch 41/70\n",
      "42/42 [==============================] - 0s 4ms/step - loss: 0.3039 - accuracy: 0.8717\n",
      "Epoch 42/70\n",
      "42/42 [==============================] - 0s 3ms/step - loss: 0.2977 - accuracy: 0.8717\n",
      "Epoch 43/70\n",
      "42/42 [==============================] - 0s 4ms/step - loss: 0.2930 - accuracy: 0.8789\n",
      "Epoch 44/70\n",
      "42/42 [==============================] - 0s 4ms/step - loss: 0.2886 - accuracy: 0.8814\n",
      "Epoch 45/70\n",
      "42/42 [==============================] - 0s 4ms/step - loss: 0.2835 - accuracy: 0.8886\n",
      "Epoch 46/70\n",
      "42/42 [==============================] - 0s 4ms/step - loss: 0.2787 - accuracy: 0.8886\n",
      "Epoch 47/70\n",
      "42/42 [==============================] - 0s 4ms/step - loss: 0.2743 - accuracy: 0.8910\n",
      "Epoch 48/70\n",
      "42/42 [==============================] - 0s 4ms/step - loss: 0.2696 - accuracy: 0.8935\n",
      "Epoch 49/70\n",
      "42/42 [==============================] - 0s 4ms/step - loss: 0.2649 - accuracy: 0.8959\n",
      "Epoch 50/70\n",
      "42/42 [==============================] - 0s 4ms/step - loss: 0.2600 - accuracy: 0.9007\n",
      "Epoch 51/70\n",
      "42/42 [==============================] - 0s 6ms/step - loss: 0.2565 - accuracy: 0.9104\n",
      "Epoch 52/70\n",
      "42/42 [==============================] - 0s 4ms/step - loss: 0.2518 - accuracy: 0.9080\n",
      "Epoch 53/70\n",
      "42/42 [==============================] - 0s 5ms/step - loss: 0.2470 - accuracy: 0.9104\n",
      "Epoch 54/70\n",
      "42/42 [==============================] - 0s 4ms/step - loss: 0.2429 - accuracy: 0.9104\n",
      "Epoch 55/70\n",
      "42/42 [==============================] - 0s 5ms/step - loss: 0.2381 - accuracy: 0.9128\n",
      "Epoch 56/70\n",
      "42/42 [==============================] - 0s 4ms/step - loss: 0.2345 - accuracy: 0.9153\n",
      "Epoch 57/70\n",
      "42/42 [==============================] - 0s 4ms/step - loss: 0.2294 - accuracy: 0.9153\n",
      "Epoch 58/70\n",
      "42/42 [==============================] - 0s 4ms/step - loss: 0.2257 - accuracy: 0.9225\n",
      "Epoch 59/70\n",
      "42/42 [==============================] - 0s 3ms/step - loss: 0.2207 - accuracy: 0.9201\n",
      "Epoch 60/70\n",
      "42/42 [==============================] - 0s 3ms/step - loss: 0.2176 - accuracy: 0.9153\n",
      "Epoch 61/70\n",
      "42/42 [==============================] - 0s 4ms/step - loss: 0.2135 - accuracy: 0.9225\n",
      "Epoch 62/70\n",
      "42/42 [==============================] - 0s 4ms/step - loss: 0.2097 - accuracy: 0.9249\n",
      "Epoch 63/70\n",
      "42/42 [==============================] - 0s 3ms/step - loss: 0.2059 - accuracy: 0.9274\n",
      "Epoch 64/70\n",
      "42/42 [==============================] - 0s 4ms/step - loss: 0.2019 - accuracy: 0.9322\n",
      "Epoch 65/70\n",
      "42/42 [==============================] - 0s 4ms/step - loss: 0.1981 - accuracy: 0.9298\n",
      "Epoch 66/70\n",
      "42/42 [==============================] - 0s 3ms/step - loss: 0.1949 - accuracy: 0.9322\n",
      "Epoch 67/70\n",
      "42/42 [==============================] - 0s 3ms/step - loss: 0.1928 - accuracy: 0.9370\n",
      "Epoch 68/70\n",
      "42/42 [==============================] - 0s 4ms/step - loss: 0.1889 - accuracy: 0.9346\n",
      "Epoch 69/70\n",
      "42/42 [==============================] - 0s 4ms/step - loss: 0.1857 - accuracy: 0.9322\n",
      "Epoch 70/70\n",
      "42/42 [==============================] - 0s 3ms/step - loss: 0.1815 - accuracy: 0.9346\n"
     ]
    }
   ],
   "source": [
    "grid_result = grid.fit(xtrain,ytrain)"
   ]
  },
  {
   "cell_type": "code",
   "execution_count": 35,
   "id": "60a90f9d",
   "metadata": {
    "ExecuteTime": {
     "end_time": "2023-03-08T17:51:19.795316Z",
     "start_time": "2023-03-08T17:51:19.771310Z"
    }
   },
   "outputs": [
    {
     "name": "stdout",
     "output_type": "stream",
     "text": [
      "Best: 0.859533 using {'optimizer': 'Adam'}\n"
     ]
    }
   ],
   "source": [
    "# summarize results\n",
    "print(\"Best: %f using %s\" % (grid_result.best_score_, grid_result.best_params_))"
   ]
  },
  {
   "cell_type": "code",
   "execution_count": null,
   "id": "c35504e4",
   "metadata": {},
   "outputs": [],
   "source": []
  }
 ],
 "metadata": {
  "kernelspec": {
   "display_name": "Python 3 (ipykernel)",
   "language": "python",
   "name": "python3"
  },
  "language_info": {
   "codemirror_mode": {
    "name": "ipython",
    "version": 3
   },
   "file_extension": ".py",
   "mimetype": "text/x-python",
   "name": "python",
   "nbconvert_exporter": "python",
   "pygments_lexer": "ipython3",
   "version": "3.9.13"
  }
 },
 "nbformat": 4,
 "nbformat_minor": 5
}
