{
 "cells": [
  {
   "cell_type": "markdown",
   "id": "4f13686c",
   "metadata": {},
   "source": [
    "# Problem Statement \n",
    "   Predicting turbine energy yield (TEY) using ambient variables as features.\n",
    "                                                                                                           "
   ]
  },
  {
   "cell_type": "code",
   "execution_count": 1,
   "id": "a07428d8",
   "metadata": {
    "ExecuteTime": {
     "end_time": "2023-03-08T17:34:24.658086Z",
     "start_time": "2023-03-08T17:34:11.428714Z"
    }
   },
   "outputs": [],
   "source": [
    "# Import Libraries\n",
    "import pandas as pd\n",
    "import numpy as np\n",
    "import sklearn\n",
    "import matplotlib.pyplot as plt\n",
    "%matplotlib inline\n",
    "import seaborn as sns\n",
    "from sklearn.model_selection import cross_val_score\n",
    "from sklearn.model_selection import train_test_split\n",
    "from sklearn.preprocessing import StandardScaler\n",
    "from sklearn.metrics import mean_squared_error\n",
    "from sklearn.metrics import classification_report\n",
    "import keras\n",
    "from sklearn.model_selection import KFold\n",
    "from keras.wrappers.scikit_learn import KerasRegressor\n",
    "from keras.models import Sequential\n",
    "from keras.layers import InputLayer,Dense\n",
    "\n",
    "import warnings\n",
    "warnings.filterwarnings('ignore')"
   ]
  },
  {
   "cell_type": "code",
   "execution_count": 2,
   "id": "78f1f343",
   "metadata": {
    "ExecuteTime": {
     "end_time": "2023-03-08T17:34:24.806518Z",
     "start_time": "2023-03-08T17:34:24.669991Z"
    }
   },
   "outputs": [
    {
     "data": {
      "text/html": [
       "<div>\n",
       "<style scoped>\n",
       "    .dataframe tbody tr th:only-of-type {\n",
       "        vertical-align: middle;\n",
       "    }\n",
       "\n",
       "    .dataframe tbody tr th {\n",
       "        vertical-align: top;\n",
       "    }\n",
       "\n",
       "    .dataframe thead th {\n",
       "        text-align: right;\n",
       "    }\n",
       "</style>\n",
       "<table border=\"1\" class=\"dataframe\">\n",
       "  <thead>\n",
       "    <tr style=\"text-align: right;\">\n",
       "      <th></th>\n",
       "      <th>AT</th>\n",
       "      <th>AP</th>\n",
       "      <th>AH</th>\n",
       "      <th>AFDP</th>\n",
       "      <th>GTEP</th>\n",
       "      <th>TIT</th>\n",
       "      <th>TAT</th>\n",
       "      <th>TEY</th>\n",
       "      <th>CDP</th>\n",
       "      <th>CO</th>\n",
       "      <th>NOX</th>\n",
       "    </tr>\n",
       "  </thead>\n",
       "  <tbody>\n",
       "    <tr>\n",
       "      <th>0</th>\n",
       "      <td>6.8594</td>\n",
       "      <td>1007.9</td>\n",
       "      <td>96.799</td>\n",
       "      <td>3.5000</td>\n",
       "      <td>19.663</td>\n",
       "      <td>1059.2</td>\n",
       "      <td>550.00</td>\n",
       "      <td>114.70</td>\n",
       "      <td>10.605</td>\n",
       "      <td>3.1547</td>\n",
       "      <td>82.722</td>\n",
       "    </tr>\n",
       "    <tr>\n",
       "      <th>1</th>\n",
       "      <td>6.7850</td>\n",
       "      <td>1008.4</td>\n",
       "      <td>97.118</td>\n",
       "      <td>3.4998</td>\n",
       "      <td>19.728</td>\n",
       "      <td>1059.3</td>\n",
       "      <td>550.00</td>\n",
       "      <td>114.72</td>\n",
       "      <td>10.598</td>\n",
       "      <td>3.2363</td>\n",
       "      <td>82.776</td>\n",
       "    </tr>\n",
       "    <tr>\n",
       "      <th>2</th>\n",
       "      <td>6.8977</td>\n",
       "      <td>1008.8</td>\n",
       "      <td>95.939</td>\n",
       "      <td>3.4824</td>\n",
       "      <td>19.779</td>\n",
       "      <td>1059.4</td>\n",
       "      <td>549.87</td>\n",
       "      <td>114.71</td>\n",
       "      <td>10.601</td>\n",
       "      <td>3.2012</td>\n",
       "      <td>82.468</td>\n",
       "    </tr>\n",
       "    <tr>\n",
       "      <th>3</th>\n",
       "      <td>7.0569</td>\n",
       "      <td>1009.2</td>\n",
       "      <td>95.249</td>\n",
       "      <td>3.4805</td>\n",
       "      <td>19.792</td>\n",
       "      <td>1059.6</td>\n",
       "      <td>549.99</td>\n",
       "      <td>114.72</td>\n",
       "      <td>10.606</td>\n",
       "      <td>3.1923</td>\n",
       "      <td>82.670</td>\n",
       "    </tr>\n",
       "    <tr>\n",
       "      <th>4</th>\n",
       "      <td>7.3978</td>\n",
       "      <td>1009.7</td>\n",
       "      <td>95.150</td>\n",
       "      <td>3.4976</td>\n",
       "      <td>19.765</td>\n",
       "      <td>1059.7</td>\n",
       "      <td>549.98</td>\n",
       "      <td>114.72</td>\n",
       "      <td>10.612</td>\n",
       "      <td>3.2484</td>\n",
       "      <td>82.311</td>\n",
       "    </tr>\n",
       "  </tbody>\n",
       "</table>\n",
       "</div>"
      ],
      "text/plain": [
       "       AT      AP      AH    AFDP    GTEP     TIT     TAT     TEY     CDP  \\\n",
       "0  6.8594  1007.9  96.799  3.5000  19.663  1059.2  550.00  114.70  10.605   \n",
       "1  6.7850  1008.4  97.118  3.4998  19.728  1059.3  550.00  114.72  10.598   \n",
       "2  6.8977  1008.8  95.939  3.4824  19.779  1059.4  549.87  114.71  10.601   \n",
       "3  7.0569  1009.2  95.249  3.4805  19.792  1059.6  549.99  114.72  10.606   \n",
       "4  7.3978  1009.7  95.150  3.4976  19.765  1059.7  549.98  114.72  10.612   \n",
       "\n",
       "       CO     NOX  \n",
       "0  3.1547  82.722  \n",
       "1  3.2363  82.776  \n",
       "2  3.2012  82.468  \n",
       "3  3.1923  82.670  \n",
       "4  3.2484  82.311  "
      ]
     },
     "execution_count": 2,
     "metadata": {},
     "output_type": "execute_result"
    }
   ],
   "source": [
    "# Import Dataset\n",
    "data = pd.read_csv(\"gas_turbines.csv\")\n",
    "data.head()\n"
   ]
  },
  {
   "cell_type": "code",
   "execution_count": 3,
   "id": "d3096760",
   "metadata": {
    "ExecuteTime": {
     "end_time": "2023-03-08T17:34:24.838198Z",
     "start_time": "2023-03-08T17:34:24.823099Z"
    }
   },
   "outputs": [
    {
     "data": {
      "text/plain": [
       "(15039, 11)"
      ]
     },
     "execution_count": 3,
     "metadata": {},
     "output_type": "execute_result"
    }
   ],
   "source": [
    "# EDA\n",
    "data.shape"
   ]
  },
  {
   "cell_type": "code",
   "execution_count": 4,
   "id": "9566043c",
   "metadata": {
    "ExecuteTime": {
     "end_time": "2023-03-08T17:34:24.904634Z",
     "start_time": "2023-03-08T17:34:24.868596Z"
    }
   },
   "outputs": [
    {
     "data": {
      "text/plain": [
       "AT      0\n",
       "AP      0\n",
       "AH      0\n",
       "AFDP    0\n",
       "GTEP    0\n",
       "TIT     0\n",
       "TAT     0\n",
       "TEY     0\n",
       "CDP     0\n",
       "CO      0\n",
       "NOX     0\n",
       "dtype: int64"
      ]
     },
     "execution_count": 4,
     "metadata": {},
     "output_type": "execute_result"
    }
   ],
   "source": [
    "data.isna().sum()"
   ]
  },
  {
   "cell_type": "code",
   "execution_count": 5,
   "id": "507c3120",
   "metadata": {
    "ExecuteTime": {
     "end_time": "2023-03-08T17:34:24.963142Z",
     "start_time": "2023-03-08T17:34:24.912643Z"
    }
   },
   "outputs": [
    {
     "name": "stdout",
     "output_type": "stream",
     "text": [
      "<class 'pandas.core.frame.DataFrame'>\n",
      "RangeIndex: 15039 entries, 0 to 15038\n",
      "Data columns (total 11 columns):\n",
      " #   Column  Non-Null Count  Dtype  \n",
      "---  ------  --------------  -----  \n",
      " 0   AT      15039 non-null  float64\n",
      " 1   AP      15039 non-null  float64\n",
      " 2   AH      15039 non-null  float64\n",
      " 3   AFDP    15039 non-null  float64\n",
      " 4   GTEP    15039 non-null  float64\n",
      " 5   TIT     15039 non-null  float64\n",
      " 6   TAT     15039 non-null  float64\n",
      " 7   TEY     15039 non-null  float64\n",
      " 8   CDP     15039 non-null  float64\n",
      " 9   CO      15039 non-null  float64\n",
      " 10  NOX     15039 non-null  float64\n",
      "dtypes: float64(11)\n",
      "memory usage: 1.3 MB\n"
     ]
    }
   ],
   "source": [
    "data.info()"
   ]
  },
  {
   "cell_type": "code",
   "execution_count": 6,
   "id": "221df596",
   "metadata": {
    "ExecuteTime": {
     "end_time": "2023-03-08T17:34:25.090333Z",
     "start_time": "2023-03-08T17:34:24.974854Z"
    }
   },
   "outputs": [
    {
     "data": {
      "text/html": [
       "<div>\n",
       "<style scoped>\n",
       "    .dataframe tbody tr th:only-of-type {\n",
       "        vertical-align: middle;\n",
       "    }\n",
       "\n",
       "    .dataframe tbody tr th {\n",
       "        vertical-align: top;\n",
       "    }\n",
       "\n",
       "    .dataframe thead th {\n",
       "        text-align: right;\n",
       "    }\n",
       "</style>\n",
       "<table border=\"1\" class=\"dataframe\">\n",
       "  <thead>\n",
       "    <tr style=\"text-align: right;\">\n",
       "      <th></th>\n",
       "      <th>count</th>\n",
       "      <th>mean</th>\n",
       "      <th>std</th>\n",
       "      <th>min</th>\n",
       "      <th>25%</th>\n",
       "      <th>50%</th>\n",
       "      <th>75%</th>\n",
       "      <th>max</th>\n",
       "    </tr>\n",
       "  </thead>\n",
       "  <tbody>\n",
       "    <tr>\n",
       "      <th>AT</th>\n",
       "      <td>15039.0</td>\n",
       "      <td>17.764381</td>\n",
       "      <td>7.574323</td>\n",
       "      <td>0.522300</td>\n",
       "      <td>11.408000</td>\n",
       "      <td>18.1860</td>\n",
       "      <td>23.8625</td>\n",
       "      <td>34.9290</td>\n",
       "    </tr>\n",
       "    <tr>\n",
       "      <th>AP</th>\n",
       "      <td>15039.0</td>\n",
       "      <td>1013.199240</td>\n",
       "      <td>6.410760</td>\n",
       "      <td>985.850000</td>\n",
       "      <td>1008.900000</td>\n",
       "      <td>1012.8000</td>\n",
       "      <td>1016.9000</td>\n",
       "      <td>1034.2000</td>\n",
       "    </tr>\n",
       "    <tr>\n",
       "      <th>AH</th>\n",
       "      <td>15039.0</td>\n",
       "      <td>79.124174</td>\n",
       "      <td>13.793439</td>\n",
       "      <td>30.344000</td>\n",
       "      <td>69.750000</td>\n",
       "      <td>82.2660</td>\n",
       "      <td>90.0435</td>\n",
       "      <td>100.2000</td>\n",
       "    </tr>\n",
       "    <tr>\n",
       "      <th>AFDP</th>\n",
       "      <td>15039.0</td>\n",
       "      <td>4.200294</td>\n",
       "      <td>0.760197</td>\n",
       "      <td>2.087400</td>\n",
       "      <td>3.723900</td>\n",
       "      <td>4.1862</td>\n",
       "      <td>4.5509</td>\n",
       "      <td>7.6106</td>\n",
       "    </tr>\n",
       "    <tr>\n",
       "      <th>GTEP</th>\n",
       "      <td>15039.0</td>\n",
       "      <td>25.419061</td>\n",
       "      <td>4.173916</td>\n",
       "      <td>17.878000</td>\n",
       "      <td>23.294000</td>\n",
       "      <td>25.0820</td>\n",
       "      <td>27.1840</td>\n",
       "      <td>37.4020</td>\n",
       "    </tr>\n",
       "    <tr>\n",
       "      <th>TIT</th>\n",
       "      <td>15039.0</td>\n",
       "      <td>1083.798770</td>\n",
       "      <td>16.527806</td>\n",
       "      <td>1000.800000</td>\n",
       "      <td>1079.600000</td>\n",
       "      <td>1088.7000</td>\n",
       "      <td>1096.0000</td>\n",
       "      <td>1100.8000</td>\n",
       "    </tr>\n",
       "    <tr>\n",
       "      <th>TAT</th>\n",
       "      <td>15039.0</td>\n",
       "      <td>545.396183</td>\n",
       "      <td>7.866803</td>\n",
       "      <td>512.450000</td>\n",
       "      <td>542.170000</td>\n",
       "      <td>549.8900</td>\n",
       "      <td>550.0600</td>\n",
       "      <td>550.6100</td>\n",
       "    </tr>\n",
       "    <tr>\n",
       "      <th>TEY</th>\n",
       "      <td>15039.0</td>\n",
       "      <td>134.188464</td>\n",
       "      <td>15.829717</td>\n",
       "      <td>100.170000</td>\n",
       "      <td>127.985000</td>\n",
       "      <td>133.7800</td>\n",
       "      <td>140.8950</td>\n",
       "      <td>174.6100</td>\n",
       "    </tr>\n",
       "    <tr>\n",
       "      <th>CDP</th>\n",
       "      <td>15039.0</td>\n",
       "      <td>12.102353</td>\n",
       "      <td>1.103196</td>\n",
       "      <td>9.904400</td>\n",
       "      <td>11.622000</td>\n",
       "      <td>12.0250</td>\n",
       "      <td>12.5780</td>\n",
       "      <td>15.0810</td>\n",
       "    </tr>\n",
       "    <tr>\n",
       "      <th>CO</th>\n",
       "      <td>15039.0</td>\n",
       "      <td>1.972499</td>\n",
       "      <td>2.222206</td>\n",
       "      <td>0.000388</td>\n",
       "      <td>0.858055</td>\n",
       "      <td>1.3902</td>\n",
       "      <td>2.1604</td>\n",
       "      <td>44.1030</td>\n",
       "    </tr>\n",
       "    <tr>\n",
       "      <th>NOX</th>\n",
       "      <td>15039.0</td>\n",
       "      <td>68.190934</td>\n",
       "      <td>10.470586</td>\n",
       "      <td>27.765000</td>\n",
       "      <td>61.303500</td>\n",
       "      <td>66.6010</td>\n",
       "      <td>73.9355</td>\n",
       "      <td>119.8900</td>\n",
       "    </tr>\n",
       "  </tbody>\n",
       "</table>\n",
       "</div>"
      ],
      "text/plain": [
       "        count         mean        std          min          25%        50%  \\\n",
       "AT    15039.0    17.764381   7.574323     0.522300    11.408000    18.1860   \n",
       "AP    15039.0  1013.199240   6.410760   985.850000  1008.900000  1012.8000   \n",
       "AH    15039.0    79.124174  13.793439    30.344000    69.750000    82.2660   \n",
       "AFDP  15039.0     4.200294   0.760197     2.087400     3.723900     4.1862   \n",
       "GTEP  15039.0    25.419061   4.173916    17.878000    23.294000    25.0820   \n",
       "TIT   15039.0  1083.798770  16.527806  1000.800000  1079.600000  1088.7000   \n",
       "TAT   15039.0   545.396183   7.866803   512.450000   542.170000   549.8900   \n",
       "TEY   15039.0   134.188464  15.829717   100.170000   127.985000   133.7800   \n",
       "CDP   15039.0    12.102353   1.103196     9.904400    11.622000    12.0250   \n",
       "CO    15039.0     1.972499   2.222206     0.000388     0.858055     1.3902   \n",
       "NOX   15039.0    68.190934  10.470586    27.765000    61.303500    66.6010   \n",
       "\n",
       "            75%        max  \n",
       "AT      23.8625    34.9290  \n",
       "AP    1016.9000  1034.2000  \n",
       "AH      90.0435   100.2000  \n",
       "AFDP     4.5509     7.6106  \n",
       "GTEP    27.1840    37.4020  \n",
       "TIT   1096.0000  1100.8000  \n",
       "TAT    550.0600   550.6100  \n",
       "TEY    140.8950   174.6100  \n",
       "CDP     12.5780    15.0810  \n",
       "CO       2.1604    44.1030  \n",
       "NOX     73.9355   119.8900  "
      ]
     },
     "execution_count": 6,
     "metadata": {},
     "output_type": "execute_result"
    }
   ],
   "source": [
    "data.describe().T"
   ]
  },
  {
   "cell_type": "code",
   "execution_count": 7,
   "id": "b15e9f82",
   "metadata": {
    "ExecuteTime": {
     "end_time": "2023-03-08T17:34:25.774763Z",
     "start_time": "2023-03-08T17:34:25.091396Z"
    }
   },
   "outputs": [
    {
     "data": {
      "text/plain": [
       "<Axes: >"
      ]
     },
     "execution_count": 7,
     "metadata": {},
     "output_type": "execute_result"
    },
    {
     "data": {
      "image/png": "[encoded data removed]",
      "text/plain": [
       "<Figure size 640x480 with 1 Axes>"
      ]
     },
     "metadata": {},
     "output_type": "display_data"
    }
   ],
   "source": [
    "data.boxplot()"
   ]
  },
  {
   "cell_type": "code",
   "execution_count": 8,
   "id": "a268554d",
   "metadata": {
    "ExecuteTime": {
     "end_time": "2023-03-08T17:34:26.063390Z",
     "start_time": "2023-03-08T17:34:25.774763Z"
    }
   },
   "outputs": [
    {
     "data": {
      "text/plain": [
       "<Axes: >"
      ]
     },
     "execution_count": 8,
     "metadata": {},
     "output_type": "execute_result"
    },
    {
     "data": {
      "image/png": "[encoded data removed]",
      "text/plain": [
       "<Figure size 640x480 with 1 Axes>"
      ]
     },
     "metadata": {},
     "output_type": "display_data"
    }
   ],
   "source": [
    "sns.boxplot(data['TEY'], color = 'Green')"
   ]
  },
  {
   "cell_type": "code",
   "execution_count": 9,
   "id": "301cfbda",
   "metadata": {
    "ExecuteTime": {
     "end_time": "2023-03-08T17:34:26.104786Z",
     "start_time": "2023-03-08T17:34:26.063390Z"
    }
   },
   "outputs": [],
   "source": [
    "x = data.loc[:,['AT', 'AP', 'AH', 'AFDP', 'GTEP', 'TIT', 'TAT', 'CDP', 'CO','NOX']]\n",
    "y= data[['TEY']]"
   ]
  },
  {
   "cell_type": "code",
   "execution_count": 10,
   "id": "1e90053c",
   "metadata": {
    "ExecuteTime": {
     "end_time": "2023-03-08T17:34:26.185060Z",
     "start_time": "2023-03-08T17:34:26.113977Z"
    },
    "scrolled": false
   },
   "outputs": [
    {
     "data": {
      "text/html": [
       "<div>\n",
       "<style scoped>\n",
       "    .dataframe tbody tr th:only-of-type {\n",
       "        vertical-align: middle;\n",
       "    }\n",
       "\n",
       "    .dataframe tbody tr th {\n",
       "        vertical-align: top;\n",
       "    }\n",
       "\n",
       "    .dataframe thead th {\n",
       "        text-align: right;\n",
       "    }\n",
       "</style>\n",
       "<table border=\"1\" class=\"dataframe\">\n",
       "  <thead>\n",
       "    <tr style=\"text-align: right;\">\n",
       "      <th></th>\n",
       "      <th>AT</th>\n",
       "      <th>AP</th>\n",
       "      <th>AH</th>\n",
       "      <th>AFDP</th>\n",
       "      <th>GTEP</th>\n",
       "      <th>TIT</th>\n",
       "      <th>TAT</th>\n",
       "      <th>CDP</th>\n",
       "      <th>CO</th>\n",
       "      <th>NOX</th>\n",
       "    </tr>\n",
       "  </thead>\n",
       "  <tbody>\n",
       "    <tr>\n",
       "      <th>0</th>\n",
       "      <td>6.8594</td>\n",
       "      <td>1007.9</td>\n",
       "      <td>96.799</td>\n",
       "      <td>3.5000</td>\n",
       "      <td>19.663</td>\n",
       "      <td>1059.2</td>\n",
       "      <td>550.00</td>\n",
       "      <td>10.605</td>\n",
       "      <td>3.1547</td>\n",
       "      <td>82.722</td>\n",
       "    </tr>\n",
       "    <tr>\n",
       "      <th>1</th>\n",
       "      <td>6.7850</td>\n",
       "      <td>1008.4</td>\n",
       "      <td>97.118</td>\n",
       "      <td>3.4998</td>\n",
       "      <td>19.728</td>\n",
       "      <td>1059.3</td>\n",
       "      <td>550.00</td>\n",
       "      <td>10.598</td>\n",
       "      <td>3.2363</td>\n",
       "      <td>82.776</td>\n",
       "    </tr>\n",
       "    <tr>\n",
       "      <th>2</th>\n",
       "      <td>6.8977</td>\n",
       "      <td>1008.8</td>\n",
       "      <td>95.939</td>\n",
       "      <td>3.4824</td>\n",
       "      <td>19.779</td>\n",
       "      <td>1059.4</td>\n",
       "      <td>549.87</td>\n",
       "      <td>10.601</td>\n",
       "      <td>3.2012</td>\n",
       "      <td>82.468</td>\n",
       "    </tr>\n",
       "    <tr>\n",
       "      <th>3</th>\n",
       "      <td>7.0569</td>\n",
       "      <td>1009.2</td>\n",
       "      <td>95.249</td>\n",
       "      <td>3.4805</td>\n",
       "      <td>19.792</td>\n",
       "      <td>1059.6</td>\n",
       "      <td>549.99</td>\n",
       "      <td>10.606</td>\n",
       "      <td>3.1923</td>\n",
       "      <td>82.670</td>\n",
       "    </tr>\n",
       "    <tr>\n",
       "      <th>4</th>\n",
       "      <td>7.3978</td>\n",
       "      <td>1009.7</td>\n",
       "      <td>95.150</td>\n",
       "      <td>3.4976</td>\n",
       "      <td>19.765</td>\n",
       "      <td>1059.7</td>\n",
       "      <td>549.98</td>\n",
       "      <td>10.612</td>\n",
       "      <td>3.2484</td>\n",
       "      <td>82.311</td>\n",
       "    </tr>\n",
       "    <tr>\n",
       "      <th>...</th>\n",
       "      <td>...</td>\n",
       "      <td>...</td>\n",
       "      <td>...</td>\n",
       "      <td>...</td>\n",
       "      <td>...</td>\n",
       "      <td>...</td>\n",
       "      <td>...</td>\n",
       "      <td>...</td>\n",
       "      <td>...</td>\n",
       "      <td>...</td>\n",
       "    </tr>\n",
       "    <tr>\n",
       "      <th>15034</th>\n",
       "      <td>9.0301</td>\n",
       "      <td>1005.6</td>\n",
       "      <td>98.460</td>\n",
       "      <td>3.5421</td>\n",
       "      <td>19.164</td>\n",
       "      <td>1049.7</td>\n",
       "      <td>546.21</td>\n",
       "      <td>10.400</td>\n",
       "      <td>4.5186</td>\n",
       "      <td>79.559</td>\n",
       "    </tr>\n",
       "    <tr>\n",
       "      <th>15035</th>\n",
       "      <td>7.8879</td>\n",
       "      <td>1005.9</td>\n",
       "      <td>99.093</td>\n",
       "      <td>3.5059</td>\n",
       "      <td>19.414</td>\n",
       "      <td>1046.3</td>\n",
       "      <td>543.22</td>\n",
       "      <td>10.433</td>\n",
       "      <td>4.8470</td>\n",
       "      <td>79.917</td>\n",
       "    </tr>\n",
       "    <tr>\n",
       "      <th>15036</th>\n",
       "      <td>7.2647</td>\n",
       "      <td>1006.3</td>\n",
       "      <td>99.496</td>\n",
       "      <td>3.4770</td>\n",
       "      <td>19.530</td>\n",
       "      <td>1037.7</td>\n",
       "      <td>537.32</td>\n",
       "      <td>10.483</td>\n",
       "      <td>7.9632</td>\n",
       "      <td>90.912</td>\n",
       "    </tr>\n",
       "    <tr>\n",
       "      <th>15037</th>\n",
       "      <td>7.0060</td>\n",
       "      <td>1006.8</td>\n",
       "      <td>99.008</td>\n",
       "      <td>3.4486</td>\n",
       "      <td>19.377</td>\n",
       "      <td>1043.2</td>\n",
       "      <td>541.24</td>\n",
       "      <td>10.533</td>\n",
       "      <td>6.2494</td>\n",
       "      <td>93.227</td>\n",
       "    </tr>\n",
       "    <tr>\n",
       "      <th>15038</th>\n",
       "      <td>6.9279</td>\n",
       "      <td>1007.2</td>\n",
       "      <td>97.533</td>\n",
       "      <td>3.4275</td>\n",
       "      <td>19.306</td>\n",
       "      <td>1049.9</td>\n",
       "      <td>545.85</td>\n",
       "      <td>10.583</td>\n",
       "      <td>4.9816</td>\n",
       "      <td>92.498</td>\n",
       "    </tr>\n",
       "  </tbody>\n",
       "</table>\n",
       "<p>15039 rows × 10 columns</p>\n",
       "</div>"
      ],
      "text/plain": [
       "           AT      AP      AH    AFDP    GTEP     TIT     TAT     CDP      CO  \\\n",
       "0      6.8594  1007.9  96.799  3.5000  19.663  1059.2  550.00  10.605  3.1547   \n",
       "1      6.7850  1008.4  97.118  3.4998  19.728  1059.3  550.00  10.598  3.2363   \n",
       "2      6.8977  1008.8  95.939  3.4824  19.779  1059.4  549.87  10.601  3.2012   \n",
       "3      7.0569  1009.2  95.249  3.4805  19.792  1059.6  549.99  10.606  3.1923   \n",
       "4      7.3978  1009.7  95.150  3.4976  19.765  1059.7  549.98  10.612  3.2484   \n",
       "...       ...     ...     ...     ...     ...     ...     ...     ...     ...   \n",
       "15034  9.0301  1005.6  98.460  3.5421  19.164  1049.7  546.21  10.400  4.5186   \n",
       "15035  7.8879  1005.9  99.093  3.5059  19.414  1046.3  543.22  10.433  4.8470   \n",
       "15036  7.2647  1006.3  99.496  3.4770  19.530  1037.7  537.32  10.483  7.9632   \n",
       "15037  7.0060  1006.8  99.008  3.4486  19.377  1043.2  541.24  10.533  6.2494   \n",
       "15038  6.9279  1007.2  97.533  3.4275  19.306  1049.9  545.85  10.583  4.9816   \n",
       "\n",
       "          NOX  \n",
       "0      82.722  \n",
       "1      82.776  \n",
       "2      82.468  \n",
       "3      82.670  \n",
       "4      82.311  \n",
       "...       ...  \n",
       "15034  79.559  \n",
       "15035  79.917  \n",
       "15036  90.912  \n",
       "15037  93.227  \n",
       "15038  92.498  \n",
       "\n",
       "[15039 rows x 10 columns]"
      ]
     },
     "execution_count": 10,
     "metadata": {},
     "output_type": "execute_result"
    }
   ],
   "source": [
    "x"
   ]
  },
  {
   "cell_type": "markdown",
   "id": "e61159cb",
   "metadata": {
    "ExecuteTime": {
     "end_time": "2023-03-08T13:32:14.327622Z",
     "start_time": "2023-03-08T13:32:14.316598Z"
    }
   },
   "source": [
    "### StandardScaler"
   ]
  },
  {
   "cell_type": "code",
   "execution_count": 11,
   "id": "abea1094",
   "metadata": {
    "ExecuteTime": {
     "end_time": "2023-03-08T17:34:26.230304Z",
     "start_time": "2023-03-08T17:34:26.185060Z"
    }
   },
   "outputs": [],
   "source": [
    "sc = StandardScaler()\n",
    "x = sc.fit_transform(x)\n",
    "y = sc.fit_transform(y)"
   ]
  },
  {
   "cell_type": "code",
   "execution_count": 12,
   "id": "c65c7c10",
   "metadata": {
    "ExecuteTime": {
     "end_time": "2023-03-08T17:34:26.273097Z",
     "start_time": "2023-03-08T17:34:26.239227Z"
    }
   },
   "outputs": [],
   "source": [
    "# Function to create model,for KerasRegressor\n",
    "def create_my_model():\n",
    "    #defining my model\n",
    "    mymodel = Sequential()\n",
    "    mymodel.add(Dense(10, input_dim=10, activation='tanh'))\n",
    "    mymodel.add(Dense(1))\n",
    "    \n",
    "    # Compile the model\n",
    "    mymodel.compile(loss='mean_squared_error', optimizer='adam', metrics=['accuracy'])\n",
    "    return mymodel"
   ]
  },
  {
   "cell_type": "code",
   "execution_count": 13,
   "id": "9c3bc685",
   "metadata": {
    "ExecuteTime": {
     "end_time": "2023-03-08T17:34:44.189780Z",
     "start_time": "2023-03-08T17:34:26.274749Z"
    }
   },
   "outputs": [
    {
     "name": "stdout",
     "output_type": "stream",
     "text": [
      "Results: -0.10 (0.09) MSE\n"
     ]
    }
   ],
   "source": [
    "model = KerasRegressor(build_fn=create_my_model, nb_epoch=50, batch_size=100, verbose=False)\n",
    "kfold = KFold(n_splits=10)\n",
    "results = cross_val_score(model, x, y, cv=kfold)\n",
    "print(\"Results: %.2f (%.2f) MSE\" % (results.mean(), results.std()))"
   ]
  },
  {
   "cell_type": "code",
   "execution_count": 14,
   "id": "61a70211",
   "metadata": {
    "ExecuteTime": {
     "end_time": "2023-03-08T17:34:46.397032Z",
     "start_time": "2023-03-08T17:34:44.189780Z"
    }
   },
   "outputs": [
    {
     "data": {
      "text/plain": [
       "array([-1.2917454, -1.2721033, -1.2707858, ..., -1.8144177, -1.818579 ,\n",
       "       -1.71459  ], dtype=float32)"
      ]
     },
     "execution_count": 14,
     "metadata": {},
     "output_type": "execute_result"
    }
   ],
   "source": [
    "model.fit(x, y)\n",
    "prediction = model.predict(x)\n",
    "prediction"
   ]
  },
  {
   "cell_type": "markdown",
   "id": "d77d9732",
   "metadata": {},
   "source": [
    "### Train Test Split"
   ]
  },
  {
   "cell_type": "code",
   "execution_count": 15,
   "id": "0373adf1",
   "metadata": {
    "ExecuteTime": {
     "end_time": "2023-03-08T17:34:46.423643Z",
     "start_time": "2023-03-08T17:34:46.400323Z"
    }
   },
   "outputs": [],
   "source": [
    "xtrain,xtest,ytrain,ytest = train_test_split(x,y,test_size=0.2, random_state=1)"
   ]
  },
  {
   "cell_type": "code",
   "execution_count": 16,
   "id": "52b55ac7",
   "metadata": {
    "ExecuteTime": {
     "end_time": "2023-03-08T17:34:48.116711Z",
     "start_time": "2023-03-08T17:34:46.429252Z"
    }
   },
   "outputs": [],
   "source": [
    "model.fit(xtrain, ytrain)\n",
    "pred = model.predict(xtest)"
   ]
  },
  {
   "cell_type": "code",
   "execution_count": 17,
   "id": "aa5a0261",
   "metadata": {
    "ExecuteTime": {
     "end_time": "2023-03-08T17:34:48.147758Z",
     "start_time": "2023-03-08T17:34:48.116711Z"
    }
   },
   "outputs": [
    {
     "data": {
      "text/plain": [
       "array([ 2.0608158 ,  0.50159466, -1.3521405 , ...,  1.531183  ,\n",
       "       -0.09975109,  1.977928  ], dtype=float32)"
      ]
     },
     "execution_count": 17,
     "metadata": {},
     "output_type": "execute_result"
    }
   ],
   "source": [
    "pred"
   ]
  },
  {
   "cell_type": "code",
   "execution_count": 18,
   "id": "39c04758",
   "metadata": {
    "ExecuteTime": {
     "end_time": "2023-03-08T17:34:48.186107Z",
     "start_time": "2023-03-08T17:34:48.154208Z"
    }
   },
   "outputs": [],
   "source": [
    "# Define X and Y\n",
    "x = data.drop(columns = ['TEY'], axis = 1) \n",
    "y = data.iloc[:,7]"
   ]
  },
  {
   "cell_type": "code",
   "execution_count": 19,
   "id": "dd23dac7",
   "metadata": {
    "ExecuteTime": {
     "end_time": "2023-03-08T17:34:48.219359Z",
     "start_time": "2023-03-08T17:34:48.191934Z"
    }
   },
   "outputs": [
    {
     "data": {
      "text/plain": [
       "0        114.70\n",
       "1        114.72\n",
       "2        114.71\n",
       "3        114.72\n",
       "4        114.72\n",
       "          ...  \n",
       "15034    111.61\n",
       "15035    111.78\n",
       "15036    110.19\n",
       "15037    110.74\n",
       "15038    111.58\n",
       "Name: TEY, Length: 15039, dtype: float64"
      ]
     },
     "execution_count": 19,
     "metadata": {},
     "output_type": "execute_result"
    }
   ],
   "source": [
    "y"
   ]
  },
  {
   "cell_type": "code",
   "execution_count": 20,
   "id": "fbdb8251",
   "metadata": {
    "ExecuteTime": {
     "end_time": "2023-03-08T17:34:48.285977Z",
     "start_time": "2023-03-08T17:34:48.220943Z"
    }
   },
   "outputs": [
    {
     "data": {
      "text/plain": [
       "array([[ 0.82814817, -0.45368466, -0.25662885, ...,  0.11836719,\n",
       "        -0.33429777, -0.69247893],\n",
       "       [ 0.34970575,  0.20999964,  0.80098808, ..., -1.17514939,\n",
       "         0.29412404, -1.09712292],\n",
       "       [ 0.32501533, -0.0902385 ,  0.25384277, ...,  0.03412556,\n",
       "        -0.02734093, -0.31731668],\n",
       "       ...,\n",
       "       [ 1.48218147, -0.7539228 , -1.07312356, ...,  0.89918742,\n",
       "        -0.16635519, -0.87426732],\n",
       "       [ 0.73766043, -0.20085255, -0.57268666, ...,  1.10752692,\n",
       "        -0.51816852, -0.0952146 ],\n",
       "       [ 0.31267013, -0.76972481,  0.22893644, ..., -1.24218036,\n",
       "         1.64017066, -1.41671256]])"
      ]
     },
     "execution_count": 20,
     "metadata": {},
     "output_type": "execute_result"
    }
   ],
   "source": [
    "# Train Test Split\n",
    "from sklearn.preprocessing import scale\n",
    "xtrain, xtest, ytrain, ytest = train_test_split(x, y, test_size = 0.2, random_state = 42)\n",
    "x_train_scaled = scale(xtrain)\n",
    "x_test_scaled = scale(xtest)\n",
    "x_test_scaled"
   ]
  },
  {
   "cell_type": "code",
   "execution_count": 21,
   "id": "fae674a1",
   "metadata": {
    "ExecuteTime": {
     "end_time": "2023-03-08T17:34:48.760771Z",
     "start_time": "2023-03-08T17:34:48.287627Z"
    }
   },
   "outputs": [],
   "source": [
    "# Create model\n",
    "import tensorflow as tf\n",
    "input_size = len(x.columns)\n",
    "output_size = 1\n",
    "hidden_layer_size = 50\n",
    "\n",
    "model = tf.keras.Sequential([\n",
    "                                \n",
    "                               tf.keras.layers.Dense(hidden_layer_size, input_dim = input_size, activation = 'relu'),\n",
    "                               tf.keras.layers.Dense(hidden_layer_size, activation = 'relu'),\n",
    "                               tf.keras.layers.Dense(hidden_layer_size, activation = 'relu'),\n",
    "                               tf.keras.layers.Dense(hidden_layer_size, activation = 'relu'),     \n",
    "                               tf.keras.layers.Dense(output_size)\n",
    "                             ])"
   ]
  },
  {
   "cell_type": "code",
   "execution_count": 22,
   "id": "c293eddb",
   "metadata": {
    "ExecuteTime": {
     "end_time": "2023-03-08T17:34:48.805516Z",
     "start_time": "2023-03-08T17:34:48.760771Z"
    }
   },
   "outputs": [],
   "source": [
    "optimizer = tf.keras.optimizers.SGD(learning_rate = 0.03)\n",
    "model.compile(optimizer = 'adam', loss = 'mean_squared_error', metrics = ['MeanSquaredError'])"
   ]
  },
  {
   "cell_type": "markdown",
   "id": "70398587",
   "metadata": {},
   "source": [
    "### Early Stoping"
   ]
  },
  {
   "cell_type": "code",
   "execution_count": 23,
   "id": "e8542962",
   "metadata": {
    "ExecuteTime": {
     "end_time": "2023-03-08T17:35:13.564714Z",
     "start_time": "2023-03-08T17:34:48.808285Z"
    }
   },
   "outputs": [
    {
     "name": "stdout",
     "output_type": "stream",
     "text": [
      "Epoch 1/100\n",
      "339/339 - 3s - loss: 3371.2700 - mean_squared_error: 3371.2700 - val_loss: 198.6940 - val_mean_squared_error: 198.6940 - 3s/epoch - 8ms/step\n",
      "Epoch 2/100\n",
      "339/339 - 1s - loss: 105.3662 - mean_squared_error: 105.3662 - val_loss: 89.4527 - val_mean_squared_error: 89.4527 - 1s/epoch - 3ms/step\n",
      "Epoch 3/100\n",
      "339/339 - 1s - loss: 50.5611 - mean_squared_error: 50.5611 - val_loss: 48.4470 - val_mean_squared_error: 48.4470 - 949ms/epoch - 3ms/step\n",
      "Epoch 4/100\n",
      "339/339 - 1s - loss: 26.8966 - mean_squared_error: 26.8966 - val_loss: 24.7310 - val_mean_squared_error: 24.7310 - 1s/epoch - 3ms/step\n",
      "Epoch 5/100\n",
      "339/339 - 1s - loss: 14.7460 - mean_squared_error: 14.7460 - val_loss: 14.1350 - val_mean_squared_error: 14.1350 - 1s/epoch - 3ms/step\n",
      "Epoch 6/100\n",
      "339/339 - 1s - loss: 8.2509 - mean_squared_error: 8.2509 - val_loss: 7.2084 - val_mean_squared_error: 7.2084 - 1s/epoch - 3ms/step\n",
      "Epoch 7/100\n",
      "339/339 - 1s - loss: 4.6870 - mean_squared_error: 4.6870 - val_loss: 4.3830 - val_mean_squared_error: 4.3830 - 1s/epoch - 3ms/step\n",
      "Epoch 8/100\n",
      "339/339 - 1s - loss: 3.0248 - mean_squared_error: 3.0248 - val_loss: 2.2583 - val_mean_squared_error: 2.2583 - 1s/epoch - 3ms/step\n",
      "Epoch 9/100\n",
      "339/339 - 1s - loss: 2.0276 - mean_squared_error: 2.0276 - val_loss: 2.4051 - val_mean_squared_error: 2.4051 - 1s/epoch - 3ms/step\n",
      "Epoch 10/100\n",
      "339/339 - 1s - loss: 1.4294 - mean_squared_error: 1.4294 - val_loss: 2.0895 - val_mean_squared_error: 2.0895 - 1s/epoch - 3ms/step\n",
      "Epoch 11/100\n",
      "339/339 - 1s - loss: 1.1594 - mean_squared_error: 1.1594 - val_loss: 1.5544 - val_mean_squared_error: 1.5544 - 1s/epoch - 4ms/step\n",
      "Epoch 12/100\n",
      "339/339 - 1s - loss: 0.9941 - mean_squared_error: 0.9941 - val_loss: 1.2834 - val_mean_squared_error: 1.2834 - 983ms/epoch - 3ms/step\n",
      "Epoch 13/100\n",
      "339/339 - 1s - loss: 0.9557 - mean_squared_error: 0.9557 - val_loss: 1.1737 - val_mean_squared_error: 1.1737 - 1s/epoch - 3ms/step\n",
      "Epoch 14/100\n",
      "339/339 - 1s - loss: 0.9990 - mean_squared_error: 0.9990 - val_loss: 1.0775 - val_mean_squared_error: 1.0775 - 1s/epoch - 3ms/step\n",
      "Epoch 15/100\n",
      "339/339 - 1s - loss: 0.7462 - mean_squared_error: 0.7462 - val_loss: 1.0581 - val_mean_squared_error: 1.0581 - 1s/epoch - 3ms/step\n",
      "Epoch 16/100\n",
      "339/339 - 1s - loss: 0.7922 - mean_squared_error: 0.7922 - val_loss: 0.8797 - val_mean_squared_error: 0.8797 - 1s/epoch - 3ms/step\n",
      "Epoch 17/100\n",
      "339/339 - 1s - loss: 0.7189 - mean_squared_error: 0.7189 - val_loss: 1.1644 - val_mean_squared_error: 1.1644 - 1s/epoch - 3ms/step\n",
      "Epoch 18/100\n",
      "339/339 - 1s - loss: 0.7925 - mean_squared_error: 0.7925 - val_loss: 0.6767 - val_mean_squared_error: 0.6767 - 972ms/epoch - 3ms/step\n",
      "Epoch 19/100\n",
      "339/339 - 1s - loss: 0.7751 - mean_squared_error: 0.7751 - val_loss: 0.5935 - val_mean_squared_error: 0.5935 - 1s/epoch - 3ms/step\n",
      "Epoch 20/100\n",
      "339/339 - 1s - loss: 0.8015 - mean_squared_error: 0.8015 - val_loss: 1.1094 - val_mean_squared_error: 1.1094 - 967ms/epoch - 3ms/step\n",
      "Epoch 21/100\n",
      "339/339 - 1s - loss: 0.7904 - mean_squared_error: 0.7904 - val_loss: 0.7218 - val_mean_squared_error: 0.7218 - 1s/epoch - 3ms/step\n"
     ]
    },
    {
     "data": {
      "text/plain": [
       "<keras.callbacks.History at 0x12bad0145b0>"
      ]
     },
     "execution_count": 23,
     "metadata": {},
     "output_type": "execute_result"
    }
   ],
   "source": [
    "num_epochs = 100\n",
    "early_stopping = tf.keras.callbacks.EarlyStopping(patience = 2)\n",
    "model.fit(x_train_scaled, ytrain, callbacks = early_stopping, validation_split = 0.1, epochs = num_epochs, verbose = 2)"
   ]
  },
  {
   "cell_type": "code",
   "execution_count": 25,
   "id": "aca41050",
   "metadata": {
    "ExecuteTime": {
     "end_time": "2023-03-08T17:35:14.542886Z",
     "start_time": "2023-03-08T17:35:14.032601Z"
    }
   },
   "outputs": [
    {
     "name": "stdout",
     "output_type": "stream",
     "text": [
      "94/94 [==============================] - 0s 4ms/step - loss: 0.6134 - mean_squared_error: 0.6134\n"
     ]
    }
   ],
   "source": [
    "test_loss, mean_squared_error = model.evaluate(x_test_scaled, ytest)"
   ]
  },
  {
   "cell_type": "code",
   "execution_count": 26,
   "id": "5fb67e6d",
   "metadata": {
    "ExecuteTime": {
     "end_time": "2023-03-08T17:35:14.682573Z",
     "start_time": "2023-03-08T17:35:14.542886Z"
    }
   },
   "outputs": [],
   "source": [
    "pred = model.predict_on_batch(x_test_scaled)"
   ]
  },
  {
   "cell_type": "code",
   "execution_count": 27,
   "id": "0e1626ab",
   "metadata": {
    "ExecuteTime": {
     "end_time": "2023-03-08T17:35:15.099063Z",
     "start_time": "2023-03-08T17:35:14.686139Z"
    }
   },
   "outputs": [
    {
     "data": {
      "text/plain": [
       "<matplotlib.collections.PathCollection at 0x12baf2765b0>"
      ]
     },
     "execution_count": 27,
     "metadata": {},
     "output_type": "execute_result"
    },
    {
     "data": {
      "image/png": "[encoded data removed]",
      "text/plain": [
       "<Figure size 640x480 with 1 Axes>"
      ]
     },
     "metadata": {},
     "output_type": "display_data"
    }
   ],
   "source": [
    "# Visualization of Actual & Predicted \n",
    "plt.scatter(ytest,pred)"
   ]
  },
  {
   "cell_type": "code",
   "execution_count": 29,
   "id": "a4af2c37",
   "metadata": {
    "ExecuteTime": {
     "end_time": "2023-03-08T17:36:25.821958Z",
     "start_time": "2023-03-08T17:36:25.758074Z"
    }
   },
   "outputs": [
    {
     "data": {
      "text/html": [
       "<div>\n",
       "<style scoped>\n",
       "    .dataframe tbody tr th:only-of-type {\n",
       "        vertical-align: middle;\n",
       "    }\n",
       "\n",
       "    .dataframe tbody tr th {\n",
       "        vertical-align: top;\n",
       "    }\n",
       "\n",
       "    .dataframe thead th {\n",
       "        text-align: right;\n",
       "    }\n",
       "</style>\n",
       "<table border=\"1\" class=\"dataframe\">\n",
       "  <thead>\n",
       "    <tr style=\"text-align: right;\">\n",
       "      <th></th>\n",
       "      <th>Actual</th>\n",
       "      <th>Predicted</th>\n",
       "      <th>% Error</th>\n",
       "    </tr>\n",
       "  </thead>\n",
       "  <tbody>\n",
       "    <tr>\n",
       "      <th>13312</th>\n",
       "      <td>134.46</td>\n",
       "      <td>134.602951</td>\n",
       "      <td>0.106315</td>\n",
       "    </tr>\n",
       "    <tr>\n",
       "      <th>12627</th>\n",
       "      <td>111.88</td>\n",
       "      <td>112.661232</td>\n",
       "      <td>0.698277</td>\n",
       "    </tr>\n",
       "    <tr>\n",
       "      <th>6393</th>\n",
       "      <td>133.72</td>\n",
       "      <td>134.664734</td>\n",
       "      <td>0.706502</td>\n",
       "    </tr>\n",
       "    <tr>\n",
       "      <th>4990</th>\n",
       "      <td>133.79</td>\n",
       "      <td>133.632477</td>\n",
       "      <td>0.117739</td>\n",
       "    </tr>\n",
       "    <tr>\n",
       "      <th>12462</th>\n",
       "      <td>110.77</td>\n",
       "      <td>111.322945</td>\n",
       "      <td>0.499183</td>\n",
       "    </tr>\n",
       "    <tr>\n",
       "      <th>...</th>\n",
       "      <td>...</td>\n",
       "      <td>...</td>\n",
       "      <td>...</td>\n",
       "    </tr>\n",
       "    <tr>\n",
       "      <th>11478</th>\n",
       "      <td>119.25</td>\n",
       "      <td>119.766808</td>\n",
       "      <td>0.433382</td>\n",
       "    </tr>\n",
       "    <tr>\n",
       "      <th>12302</th>\n",
       "      <td>133.74</td>\n",
       "      <td>133.745880</td>\n",
       "      <td>0.004397</td>\n",
       "    </tr>\n",
       "    <tr>\n",
       "      <th>13093</th>\n",
       "      <td>146.31</td>\n",
       "      <td>147.087982</td>\n",
       "      <td>0.531735</td>\n",
       "    </tr>\n",
       "    <tr>\n",
       "      <th>2699</th>\n",
       "      <td>150.07</td>\n",
       "      <td>149.927505</td>\n",
       "      <td>0.094952</td>\n",
       "    </tr>\n",
       "    <tr>\n",
       "      <th>12506</th>\n",
       "      <td>111.77</td>\n",
       "      <td>112.219368</td>\n",
       "      <td>0.402047</td>\n",
       "    </tr>\n",
       "  </tbody>\n",
       "</table>\n",
       "<p>3008 rows × 3 columns</p>\n",
       "</div>"
      ],
      "text/plain": [
       "       Actual   Predicted   % Error\n",
       "13312  134.46  134.602951  0.106315\n",
       "12627  111.88  112.661232  0.698277\n",
       "6393   133.72  134.664734  0.706502\n",
       "4990   133.79  133.632477  0.117739\n",
       "12462  110.77  111.322945  0.499183\n",
       "...       ...         ...       ...\n",
       "11478  119.25  119.766808  0.433382\n",
       "12302  133.74  133.745880  0.004397\n",
       "13093  146.31  147.087982  0.531735\n",
       "2699   150.07  149.927505  0.094952\n",
       "12506  111.77  112.219368  0.402047\n",
       "\n",
       "[3008 rows x 3 columns]"
      ]
     },
     "execution_count": 29,
     "metadata": {},
     "output_type": "execute_result"
    }
   ],
   "source": [
    "predictions_df = pd.DataFrame()\n",
    "predictions_df['Actual'] = ytest\n",
    "predictions_df['Predicted'] = pred\n",
    "predictions_df['% Error'] = abs(predictions_df['Actual'] - predictions_df['Predicted'])/predictions_df['Actual']*100\n",
    "predictions_df"
   ]
  },
  {
   "cell_type": "code",
   "execution_count": null,
   "id": "632cc63d",
   "metadata": {},
   "outputs": [],
   "source": []
  }
 ],
 "metadata": {
  "kernelspec": {
   "display_name": "Python 3 (ipykernel)",
   "language": "python",
   "name": "python3"
  },
  "language_info": {
   "codemirror_mode": {
    "name": "ipython",
    "version": 3
   },
   "file_extension": ".py",
   "mimetype": "text/x-python",
   "name": "python",
   "nbconvert_exporter": "python",
   "pygments_lexer": "ipython3",
   "version": "3.9.13"
  }
 },
 "nbformat": 4,
 "nbformat_minor": 5
}
