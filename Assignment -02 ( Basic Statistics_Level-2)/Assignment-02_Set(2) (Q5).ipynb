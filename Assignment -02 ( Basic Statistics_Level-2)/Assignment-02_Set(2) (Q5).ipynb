{
 "cells": [
  {
   "cell_type": "code",
   "execution_count": 10,
   "id": "4f769567",
   "metadata": {
    "ExecuteTime": {
     "end_time": "2023-03-01T13:14:17.990908Z",
     "start_time": "2023-03-01T13:14:17.976122Z"
    }
   },
   "outputs": [],
   "source": [
    "import numpy as np\n",
    "from scipy import stats\n",
    "from scipy.stats import norm"
   ]
  },
  {
   "cell_type": "code",
   "execution_count": 11,
   "id": "a333bfb4",
   "metadata": {
    "ExecuteTime": {
     "end_time": "2023-03-01T13:14:18.052148Z",
     "start_time": "2023-03-01T13:14:17.999932Z"
    }
   },
   "outputs": [
    {
     "name": "stdout",
     "output_type": "stream",
     "text": [
      "Mean Profit is Rs 540 Million\n"
     ]
    }
   ],
   "source": [
    "#Profit1 ~ N(5, 32) and Profit2 ~ N(7, 42) so by this  \n",
    "Mean = 5+7\n",
    "print('Mean Profit is Rs', Mean*45,'Million')\n"
   ]
  },
  {
   "cell_type": "code",
   "execution_count": 12,
   "id": "47e5a331",
   "metadata": {
    "ExecuteTime": {
     "end_time": "2023-03-01T13:14:18.076743Z",
     "start_time": "2023-03-01T13:14:18.052148Z"
    }
   },
   "outputs": [
    {
     "name": "stdout",
     "output_type": "stream",
     "text": [
      "Standard Deviation is Rs 225.0 Million\n"
     ]
    }
   ],
   "source": [
    "# Variance of profits from two different divisions of a company = SD^2 = SD1^2 + SD2^2\n",
    "SD = np.sqrt((9)+(16))\n",
    "print('Standard Deviation is Rs', SD*45, 'Million')"
   ]
  },
  {
   "cell_type": "markdown",
   "id": "69866b3a",
   "metadata": {},
   "source": [
    "## A)"
   ]
  },
  {
   "cell_type": "code",
   "execution_count": 13,
   "id": "1cd2999d",
   "metadata": {
    "ExecuteTime": {
     "end_time": "2023-03-01T13:14:18.118745Z",
     "start_time": "2023-03-01T13:14:18.079183Z"
    }
   },
   "outputs": [
    {
     "name": "stdout",
     "output_type": "stream",
     "text": [
      "Range is Rs (99.00810347848784, 980.9918965215122) in Millions\n"
     ]
    }
   ],
   "source": [
    "# Specify a Rupee range (centered on the mean) such that it contains 95% probability for the annual profit of the company.\n",
    "print('Range is Rs',(stats.norm.interval(0.95,540,225)),'in Millions')"
   ]
  },
  {
   "cell_type": "markdown",
   "id": "aa779d89",
   "metadata": {
    "ExecuteTime": {
     "end_time": "2023-03-01T13:13:25.646589Z",
     "start_time": "2023-03-01T13:13:25.622711Z"
    }
   },
   "source": [
    "## B)"
   ]
  },
  {
   "cell_type": "code",
   "execution_count": 14,
   "id": "7380cca0",
   "metadata": {
    "ExecuteTime": {
     "end_time": "2023-03-01T13:14:18.151578Z",
     "start_time": "2023-03-01T13:14:18.120190Z"
    },
    "scrolled": true
   },
   "outputs": [
    {
     "name": "stdout",
     "output_type": "stream",
     "text": [
      "5th percentile of profit (in Million Rupees) is 170.0\n",
      "Range is Rs (99.00810347848784, 980.9918965215122) in Millions\n"
     ]
    }
   ],
   "source": [
    "# Specify the 5th percentile of profit (in Rupees) for the company\n",
    "#through z table 5 percentile = -1.645\n",
    "X= 540+(-1.645)*(225)\n",
    "print('5th percentile of profit (in Million Rupees) is',np.round(X,))\n",
    "print('Range is Rs',(stats.norm.interval(0.95,540,225)),'in Millions')"
   ]
  },
  {
   "cell_type": "markdown",
   "id": "f87b2884",
   "metadata": {},
   "source": [
    "## C)"
   ]
  },
  {
   "cell_type": "code",
   "execution_count": 15,
   "id": "df452665",
   "metadata": {
    "ExecuteTime": {
     "end_time": "2023-03-01T13:14:18.185470Z",
     "start_time": "2023-03-01T13:14:18.153423Z"
    }
   },
   "outputs": [
    {
     "data": {
      "text/plain": [
       "0.0477903522728147"
      ]
     },
     "execution_count": 15,
     "metadata": {},
     "output_type": "execute_result"
    }
   ],
   "source": [
    "# Which of the two divisions has a larger probability of making a loss in a given year?\n",
    "# Probability of Division 1 making a loss P(X<0)\n",
    "stats.norm.cdf(0,5,3)"
   ]
  },
  {
   "cell_type": "code",
   "execution_count": 16,
   "id": "f98ac18d",
   "metadata": {
    "ExecuteTime": {
     "end_time": "2023-03-01T13:14:18.218869Z",
     "start_time": "2023-03-01T13:14:18.186970Z"
    }
   },
   "outputs": [
    {
     "data": {
      "text/plain": [
       "0.040059156863817086"
      ]
     },
     "execution_count": 16,
     "metadata": {},
     "output_type": "execute_result"
    }
   ],
   "source": [
    "# Probability of Division 2 making a loss P(X<0)\n",
    "stats.norm.cdf(0,7,4)"
   ]
  },
  {
   "cell_type": "markdown",
   "id": "974ae295",
   "metadata": {
    "ExecuteTime": {
     "end_time": "2023-03-01T13:07:05.471115Z",
     "start_time": "2023-03-01T13:07:05.455877Z"
    }
   },
   "source": [
    "#### *Division 1* has larger Probabilityof Making Loss in a given year"
   ]
  },
  {
   "cell_type": "code",
   "execution_count": null,
   "id": "bce09c78",
   "metadata": {},
   "outputs": [],
   "source": []
  }
 ],
 "metadata": {
  "kernelspec": {
   "display_name": "Python 3 (ipykernel)",
   "language": "python",
   "name": "python3"
  },
  "language_info": {
   "codemirror_mode": {
    "name": "ipython",
    "version": 3
   },
   "file_extension": ".py",
   "mimetype": "text/x-python",
   "name": "python",
   "nbconvert_exporter": "python",
   "pygments_lexer": "ipython3",
   "version": "3.9.13"
  }
 },
 "nbformat": 4,
 "nbformat_minor": 5
}
