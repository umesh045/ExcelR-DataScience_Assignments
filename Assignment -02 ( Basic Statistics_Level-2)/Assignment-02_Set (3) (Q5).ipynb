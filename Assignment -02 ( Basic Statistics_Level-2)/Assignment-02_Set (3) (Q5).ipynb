{
 "cells": [
  {
   "cell_type": "markdown",
   "id": "e1481131",
   "metadata": {},
   "source": [
    "# Q5\n",
    "- In January 2005, a company that monitors Internet traffic (WebSideStory) reported that its sampling revealed that the Mozilla Firefox browser launched in 2004 had grabbed a 4.6% share of the market\n",
    "#### I. If the sample were based on 2,000 users, could Microsoft conclude that Mozilla has a less than 5% share of the market?"
   ]
  },
  {
   "cell_type": "code",
   "execution_count": 1,
   "id": "574defc1",
   "metadata": {
    "ExecuteTime": {
     "end_time": "2023-01-18T11:55:21.858553Z",
     "start_time": "2023-01-18T11:55:19.466427Z"
    }
   },
   "outputs": [],
   "source": [
    "import numpy as np\n",
    "import scipy.stats as stats\n",
    "import warnings \n",
    "warnings.filterwarnings(\"ignore\")"
   ]
  },
  {
   "cell_type": "code",
   "execution_count": 2,
   "id": "d4d15374",
   "metadata": {
    "ExecuteTime": {
     "end_time": "2023-01-18T11:55:21.906565Z",
     "start_time": "2023-01-18T11:55:21.866556Z"
    }
   },
   "outputs": [
    {
     "data": {
      "text/plain": [
       "-0.820782681668124"
      ]
     },
     "execution_count": 2,
     "metadata": {},
     "output_type": "execute_result"
    }
   ],
   "source": [
    "p_hat=0.046\n",
    "p=0.05\n",
    "n=2000\n",
    "z_score =(p_hat-p)/(np.sqrt((p*(1-p))/n))\n",
    "z_score"
   ]
  },
  {
   "cell_type": "code",
   "execution_count": 3,
   "id": "c38a97ba",
   "metadata": {
    "ExecuteTime": {
     "end_time": "2023-01-18T11:55:21.947329Z",
     "start_time": "2023-01-18T11:55:21.906565Z"
    }
   },
   "outputs": [
    {
     "data": {
      "text/plain": [
       "0.20588503245107104"
      ]
     },
     "execution_count": 3,
     "metadata": {},
     "output_type": "execute_result"
    }
   ],
   "source": [
    "p_value=1-stats.norm.cdf(abs(z_score))\n",
    "p_value"
   ]
  },
  {
   "cell_type": "markdown",
   "id": "944b2ec2",
   "metadata": {},
   "source": [
    "Find Probability assuming null hyposthesis, so as to compare with Type-1 error α = 0.05\n"
   ]
  },
  {
   "cell_type": "code",
   "execution_count": 4,
   "id": "eda12476",
   "metadata": {
    "ExecuteTime": {
     "end_time": "2023-01-18T11:55:21.981003Z",
     "start_time": "2023-01-18T11:55:21.947329Z"
    }
   },
   "outputs": [],
   "source": [
    "α = 0.05"
   ]
  },
  {
   "cell_type": "code",
   "execution_count": 5,
   "id": "40fa2a2b",
   "metadata": {
    "ExecuteTime": {
     "end_time": "2023-01-18T11:55:22.014766Z",
     "start_time": "2023-01-18T11:55:21.981003Z"
    }
   },
   "outputs": [
    {
     "name": "stdout",
     "output_type": "stream",
     "text": [
      "accept alternate hypothesis\n"
     ]
    }
   ],
   "source": [
    "# if p_value < α: \"reject null hypothesis\"  which means   Microsoft conclude that Mozilla has a less than 5% share of the market\n",
    "# if p_value > α: \"failed to reject null hypothesis(Alternate Hypothesis)\"  which means   Microsoft Could not conclude that Mozilla has a less than 5% share of the market\n",
    "if p_value < α:\n",
    "    print(\"reject null hypothesis\") \n",
    "else:\n",
    "    print(\"accept alternate hypothesis\") "
   ]
  },
  {
   "cell_type": "code",
   "execution_count": 6,
   "id": "7a91f193",
   "metadata": {
    "ExecuteTime": {
     "end_time": "2023-01-18T11:55:22.030787Z",
     "start_time": "2023-01-18T11:55:22.014766Z"
    }
   },
   "outputs": [
    {
     "name": "stdout",
     "output_type": "stream",
     "text": [
      "No: Microsoft could not conclude that Mozilla has a less\n",
      "    than 5% share of the market even if the sample were \n",
      "    based on 2,000 users\n"
     ]
    }
   ],
   "source": [
    "if p_value>0.05:\n",
    "    print(\"\"\"No: Microsoft could not conclude that Mozilla has a less\n",
    "    than 5% share of the market even if the sample were \n",
    "    based on 2,000 users\"\"\")\n",
    "else:\n",
    "    print(\"Yes\")"
   ]
  },
  {
   "cell_type": "code",
   "execution_count": null,
   "id": "0954defd",
   "metadata": {},
   "outputs": [],
   "source": []
  }
 ],
 "metadata": {
  "kernelspec": {
   "display_name": "Python 3 (ipykernel)",
   "language": "python",
   "name": "python3"
  },
  "language_info": {
   "codemirror_mode": {
    "name": "ipython",
    "version": 3
   },
   "file_extension": ".py",
   "mimetype": "text/x-python",
   "name": "python",
   "nbconvert_exporter": "python",
   "pygments_lexer": "ipython3",
   "version": "3.9.13"
  }
 },
 "nbformat": 4,
 "nbformat_minor": 5
}
