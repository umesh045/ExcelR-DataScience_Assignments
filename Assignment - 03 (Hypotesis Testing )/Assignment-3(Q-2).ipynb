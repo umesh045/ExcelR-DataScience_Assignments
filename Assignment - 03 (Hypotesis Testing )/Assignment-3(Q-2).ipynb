{
 "cells": [
  {
   "cell_type": "markdown",
   "id": "91764b35",
   "metadata": {},
   "source": [
    "# *Q2*\n",
    "-    A hospital wants to determine whether there is any difference in the average Turn Around Time (TAT) of reports of the laboratories on their preferred list. They collected a random sample and recorded TAT for reports of 4 laboratories. TAT is defined as sample collected to report dispatch.\n",
    "\n",
    "     Analyze the data and determine whether there is any difference in average TAT among the different laboratories at 5% significance level."
   ]
  },
  {
   "cell_type": "code",
   "execution_count": 1,
   "id": "6c43fe39",
   "metadata": {
    "ExecuteTime": {
     "end_time": "2023-02-28T14:53:15.263616Z",
     "start_time": "2023-02-28T14:53:15.240021Z"
    }
   },
   "outputs": [],
   "source": [
    "#Assume,\n",
    "# Null Hypothesis as Ho: μ1 = μ2 = μ3 = μ4\n",
    "# Alternate Hypothesis Ha: At least one mean is different "
   ]
  },
  {
   "cell_type": "markdown",
   "id": "9ffafc37",
   "metadata": {},
   "source": [
    "### Annova:\n",
    "- Annova is generally used to test the significance of the difference of the mean values amoung more than two sample groups.\n",
    "- It uses F-Test to statistically test the equality of means and the relative variance between them.\n"
   ]
  },
  {
   "cell_type": "code",
   "execution_count": 2,
   "id": "0ee54142",
   "metadata": {
    "ExecuteTime": {
     "end_time": "2023-02-28T14:53:18.069390Z",
     "start_time": "2023-02-28T14:53:15.270130Z"
    }
   },
   "outputs": [],
   "source": [
    "#Import labraries \n",
    "import pandas as pd\n",
    "import numpy as np\n",
    "from scipy import stats\n",
    "from scipy.stats import norm"
   ]
  },
  {
   "cell_type": "code",
   "execution_count": 3,
   "id": "5ed22ce0",
   "metadata": {
    "ExecuteTime": {
     "end_time": "2023-02-28T14:53:18.102414Z",
     "start_time": "2023-02-28T14:53:18.069946Z"
    }
   },
   "outputs": [],
   "source": [
    "#Import Dataset\n",
    "LabTAT=pd.read_csv(r\"LabTAT (1).csv\")"
   ]
  },
  {
   "cell_type": "code",
   "execution_count": 4,
   "id": "272f6ec8",
   "metadata": {
    "ExecuteTime": {
     "end_time": "2023-02-28T14:53:18.167252Z",
     "start_time": "2023-02-28T14:53:18.102414Z"
    }
   },
   "outputs": [
    {
     "data": {
      "text/html": [
       "<div>\n",
       "<style scoped>\n",
       "    .dataframe tbody tr th:only-of-type {\n",
       "        vertical-align: middle;\n",
       "    }\n",
       "\n",
       "    .dataframe tbody tr th {\n",
       "        vertical-align: top;\n",
       "    }\n",
       "\n",
       "    .dataframe thead th {\n",
       "        text-align: right;\n",
       "    }\n",
       "</style>\n",
       "<table border=\"1\" class=\"dataframe\">\n",
       "  <thead>\n",
       "    <tr style=\"text-align: right;\">\n",
       "      <th></th>\n",
       "      <th>Laboratory 1</th>\n",
       "      <th>Laboratory 2</th>\n",
       "      <th>Laboratory 3</th>\n",
       "      <th>Laboratory 4</th>\n",
       "    </tr>\n",
       "  </thead>\n",
       "  <tbody>\n",
       "    <tr>\n",
       "      <th>0</th>\n",
       "      <td>185.35</td>\n",
       "      <td>165.53</td>\n",
       "      <td>176.70</td>\n",
       "      <td>166.13</td>\n",
       "    </tr>\n",
       "    <tr>\n",
       "      <th>1</th>\n",
       "      <td>170.49</td>\n",
       "      <td>185.91</td>\n",
       "      <td>198.45</td>\n",
       "      <td>160.79</td>\n",
       "    </tr>\n",
       "    <tr>\n",
       "      <th>2</th>\n",
       "      <td>192.77</td>\n",
       "      <td>194.92</td>\n",
       "      <td>201.23</td>\n",
       "      <td>185.18</td>\n",
       "    </tr>\n",
       "    <tr>\n",
       "      <th>3</th>\n",
       "      <td>177.33</td>\n",
       "      <td>183.00</td>\n",
       "      <td>199.61</td>\n",
       "      <td>176.42</td>\n",
       "    </tr>\n",
       "    <tr>\n",
       "      <th>4</th>\n",
       "      <td>193.41</td>\n",
       "      <td>169.57</td>\n",
       "      <td>204.63</td>\n",
       "      <td>152.60</td>\n",
       "    </tr>\n",
       "  </tbody>\n",
       "</table>\n",
       "</div>"
      ],
      "text/plain": [
       "   Laboratory 1  Laboratory 2  Laboratory 3  Laboratory 4\n",
       "0        185.35        165.53        176.70        166.13\n",
       "1        170.49        185.91        198.45        160.79\n",
       "2        192.77        194.92        201.23        185.18\n",
       "3        177.33        183.00        199.61        176.42\n",
       "4        193.41        169.57        204.63        152.60"
      ]
     },
     "execution_count": 4,
     "metadata": {},
     "output_type": "execute_result"
    }
   ],
   "source": [
    "LabTAT.head()"
   ]
  },
  {
   "cell_type": "code",
   "execution_count": 5,
   "id": "810cd07a",
   "metadata": {
    "ExecuteTime": {
     "end_time": "2023-02-28T14:53:18.199781Z",
     "start_time": "2023-02-28T14:53:18.167560Z"
    }
   },
   "outputs": [
    {
     "data": {
      "text/plain": [
       "F_onewayResult(statistic=118.70421654401437, pvalue=2.1156708949992414e-57)"
      ]
     },
     "execution_count": 5,
     "metadata": {},
     "output_type": "execute_result"
    }
   ],
   "source": [
    "p_value=stats.f_oneway(LabTAT.iloc[:,0],LabTAT.iloc[:,1],LabTAT.iloc[:,2],LabTAT.iloc[:,3])\n",
    "p_value"
   ]
  },
  {
   "cell_type": "code",
   "execution_count": 6,
   "id": "b6bbff89",
   "metadata": {
    "ExecuteTime": {
     "end_time": "2023-02-28T14:53:18.232940Z",
     "start_time": "2023-02-28T14:53:18.199870Z"
    }
   },
   "outputs": [
    {
     "data": {
      "text/plain": [
       "2.1156708949992414e-57"
      ]
     },
     "execution_count": 6,
     "metadata": {},
     "output_type": "execute_result"
    }
   ],
   "source": [
    "p_value[1]"
   ]
  },
  {
   "cell_type": "markdown",
   "id": "7682e3fc",
   "metadata": {},
   "source": [
    "\n",
    "- alpha(Significance level) = 5% = 0.05\n",
    "- pvalue = 2.1156708949992414e-57\n",
    "- Comparing Both the values->>>   pvalue<alpha(5% significance level)"
   ]
  },
  {
   "cell_type": "code",
   "execution_count": 7,
   "id": "a1deb302",
   "metadata": {
    "ExecuteTime": {
     "end_time": "2023-02-28T14:53:18.265718Z",
     "start_time": "2023-02-28T14:53:18.240943Z"
    }
   },
   "outputs": [
    {
     "name": "stdout",
     "output_type": "stream",
     "text": [
      "There is significant difference in the average Turn Around Time (TAT) of reports of the laboratories on their preferred list\n"
     ]
    }
   ],
   "source": [
    "# Decision: Reject Null Hypothesis(Ho:μ1 = μ2 = μ3 = μ4) \n",
    "print(\"There is significant difference in the average Turn Around Time (TAT) of reports of the laboratories on their preferred list\")"
   ]
  },
  {
   "cell_type": "code",
   "execution_count": null,
   "id": "4d0cea85",
   "metadata": {},
   "outputs": [],
   "source": []
  }
 ],
 "metadata": {
  "kernelspec": {
   "display_name": "Python 3 (ipykernel)",
   "language": "python",
   "name": "python3"
  },
  "language_info": {
   "codemirror_mode": {
    "name": "ipython",
    "version": 3
   },
   "file_extension": ".py",
   "mimetype": "text/x-python",
   "name": "python",
   "nbconvert_exporter": "python",
   "pygments_lexer": "ipython3",
   "version": "3.9.13"
  }
 },
 "nbformat": 4,
 "nbformat_minor": 5
}
