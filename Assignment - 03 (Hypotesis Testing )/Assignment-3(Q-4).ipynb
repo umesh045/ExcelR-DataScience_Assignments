{
 "cells": [
  {
   "cell_type": "markdown",
   "id": "aff487c7",
   "metadata": {},
   "source": [
    "# *Q4*\n",
    "-  TeleCall uses 4 centers around the globe to process customer order forms. They audit a certain %  of the customer order forms. Any error in order form renders it defective and has to be reworked before processing.  The manager wants to check whether the defective %  varies by centre. Please analyze the data at 5% significance level and help the manager draw appropriate inferences."
   ]
  },
  {
   "cell_type": "code",
   "execution_count": 18,
   "id": "301bcac6",
   "metadata": {
    "ExecuteTime": {
     "end_time": "2023-03-01T19:10:57.257173Z",
     "start_time": "2023-03-01T19:10:57.241475Z"
    }
   },
   "outputs": [],
   "source": [
    "# Assume,\n",
    "# Null Hypothesis as Ho: Ho: Customer order forms defective % does not varies by centre.\n",
    "# Alternate Hypothesis as Ha: Customer order forms defective % varies by centre."
   ]
  },
  {
   "cell_type": "markdown",
   "id": "d8353cbb",
   "metadata": {},
   "source": [
    "## *Chi-Square Test*\n",
    "- Chi2 contengency independence test(\"Goodness of fit test\"):is used to test for the independence of two variable.\n",
    "- It makes a comparison between the Expected Frequencies and the the observed frequencies."
   ]
  },
  {
   "cell_type": "code",
   "execution_count": 19,
   "id": "10ee2f41",
   "metadata": {
    "ExecuteTime": {
     "end_time": "2023-03-01T19:10:57.312408Z",
     "start_time": "2023-03-01T19:10:57.262016Z"
    }
   },
   "outputs": [],
   "source": [
    "#Import Labraries\n",
    "import pandas as pd\n",
    "import numpy as np\n",
    "from scipy import stats\n",
    "from scipy.stats import norm\n",
    "from scipy.stats import chi2_contingency\n",
    "from sklearn import preprocessing\n",
    "\n",
    "\n"
   ]
  },
  {
   "cell_type": "code",
   "execution_count": 20,
   "id": "88aef817",
   "metadata": {
    "ExecuteTime": {
     "end_time": "2023-03-01T19:10:57.374057Z",
     "start_time": "2023-03-01T19:10:57.312408Z"
    }
   },
   "outputs": [
    {
     "data": {
      "text/html": [
       "<div>\n",
       "<style scoped>\n",
       "    .dataframe tbody tr th:only-of-type {\n",
       "        vertical-align: middle;\n",
       "    }\n",
       "\n",
       "    .dataframe tbody tr th {\n",
       "        vertical-align: top;\n",
       "    }\n",
       "\n",
       "    .dataframe thead th {\n",
       "        text-align: right;\n",
       "    }\n",
       "</style>\n",
       "<table border=\"1\" class=\"dataframe\">\n",
       "  <thead>\n",
       "    <tr style=\"text-align: right;\">\n",
       "      <th></th>\n",
       "      <th>Phillippines</th>\n",
       "      <th>Indonesia</th>\n",
       "      <th>Malta</th>\n",
       "      <th>India</th>\n",
       "    </tr>\n",
       "  </thead>\n",
       "  <tbody>\n",
       "    <tr>\n",
       "      <th>0</th>\n",
       "      <td>Error Free</td>\n",
       "      <td>Error Free</td>\n",
       "      <td>Defective</td>\n",
       "      <td>Error Free</td>\n",
       "    </tr>\n",
       "    <tr>\n",
       "      <th>1</th>\n",
       "      <td>Error Free</td>\n",
       "      <td>Error Free</td>\n",
       "      <td>Error Free</td>\n",
       "      <td>Defective</td>\n",
       "    </tr>\n",
       "    <tr>\n",
       "      <th>2</th>\n",
       "      <td>Error Free</td>\n",
       "      <td>Defective</td>\n",
       "      <td>Defective</td>\n",
       "      <td>Error Free</td>\n",
       "    </tr>\n",
       "    <tr>\n",
       "      <th>3</th>\n",
       "      <td>Error Free</td>\n",
       "      <td>Error Free</td>\n",
       "      <td>Error Free</td>\n",
       "      <td>Error Free</td>\n",
       "    </tr>\n",
       "    <tr>\n",
       "      <th>4</th>\n",
       "      <td>Error Free</td>\n",
       "      <td>Error Free</td>\n",
       "      <td>Defective</td>\n",
       "      <td>Error Free</td>\n",
       "    </tr>\n",
       "    <tr>\n",
       "      <th>...</th>\n",
       "      <td>...</td>\n",
       "      <td>...</td>\n",
       "      <td>...</td>\n",
       "      <td>...</td>\n",
       "    </tr>\n",
       "    <tr>\n",
       "      <th>295</th>\n",
       "      <td>Error Free</td>\n",
       "      <td>Error Free</td>\n",
       "      <td>Error Free</td>\n",
       "      <td>Error Free</td>\n",
       "    </tr>\n",
       "    <tr>\n",
       "      <th>296</th>\n",
       "      <td>Error Free</td>\n",
       "      <td>Error Free</td>\n",
       "      <td>Error Free</td>\n",
       "      <td>Error Free</td>\n",
       "    </tr>\n",
       "    <tr>\n",
       "      <th>297</th>\n",
       "      <td>Error Free</td>\n",
       "      <td>Error Free</td>\n",
       "      <td>Defective</td>\n",
       "      <td>Error Free</td>\n",
       "    </tr>\n",
       "    <tr>\n",
       "      <th>298</th>\n",
       "      <td>Error Free</td>\n",
       "      <td>Error Free</td>\n",
       "      <td>Error Free</td>\n",
       "      <td>Error Free</td>\n",
       "    </tr>\n",
       "    <tr>\n",
       "      <th>299</th>\n",
       "      <td>Error Free</td>\n",
       "      <td>Defective</td>\n",
       "      <td>Defective</td>\n",
       "      <td>Error Free</td>\n",
       "    </tr>\n",
       "  </tbody>\n",
       "</table>\n",
       "<p>300 rows × 4 columns</p>\n",
       "</div>"
      ],
      "text/plain": [
       "    Phillippines   Indonesia       Malta       India\n",
       "0     Error Free  Error Free   Defective  Error Free\n",
       "1     Error Free  Error Free  Error Free   Defective\n",
       "2     Error Free   Defective   Defective  Error Free\n",
       "3     Error Free  Error Free  Error Free  Error Free\n",
       "4     Error Free  Error Free   Defective  Error Free\n",
       "..           ...         ...         ...         ...\n",
       "295   Error Free  Error Free  Error Free  Error Free\n",
       "296   Error Free  Error Free  Error Free  Error Free\n",
       "297   Error Free  Error Free   Defective  Error Free\n",
       "298   Error Free  Error Free  Error Free  Error Free\n",
       "299   Error Free   Defective   Defective  Error Free\n",
       "\n",
       "[300 rows x 4 columns]"
      ]
     },
     "execution_count": 20,
     "metadata": {},
     "output_type": "execute_result"
    }
   ],
   "source": [
    "#Import Dataset\n",
    "OrderForm = pd.read_csv(r\"Costomer+OrderForm (1).csv\")\n",
    "OrderForm"
   ]
  },
  {
   "cell_type": "code",
   "execution_count": 21,
   "id": "c4b08f5e",
   "metadata": {
    "ExecuteTime": {
     "end_time": "2023-03-01T19:10:57.390054Z",
     "start_time": "2023-03-01T19:10:57.382055Z"
    }
   },
   "outputs": [],
   "source": [
    "label_encoder = preprocessing.LabelEncoder()"
   ]
  },
  {
   "cell_type": "code",
   "execution_count": 22,
   "id": "9895aba6",
   "metadata": {
    "ExecuteTime": {
     "end_time": "2023-03-01T19:10:57.423577Z",
     "start_time": "2023-03-01T19:10:57.394925Z"
    }
   },
   "outputs": [],
   "source": [
    "OrderForm[\"Phillippines\"] = label_encoder.fit_transform(OrderForm[\"Phillippines\"])\n",
    "OrderForm[\"Indonesia\"] = label_encoder.fit_transform(OrderForm[\"Indonesia\"])\n",
    "OrderForm[\"Malta\"] = label_encoder.fit_transform(OrderForm[\"Malta\"])\n",
    "OrderForm[\"India\"] = label_encoder.fit_transform(OrderForm[\"India\"])"
   ]
  },
  {
   "cell_type": "code",
   "execution_count": 23,
   "id": "3974c2f9",
   "metadata": {
    "ExecuteTime": {
     "end_time": "2023-03-01T19:10:57.440539Z",
     "start_time": "2023-03-01T19:10:57.424916Z"
    }
   },
   "outputs": [
    {
     "data": {
      "text/plain": [
       "0      1\n",
       "1      1\n",
       "2      1\n",
       "3      1\n",
       "4      1\n",
       "      ..\n",
       "295    1\n",
       "296    1\n",
       "297    1\n",
       "298    1\n",
       "299    1\n",
       "Name: Phillippines, Length: 300, dtype: int32"
      ]
     },
     "execution_count": 23,
     "metadata": {},
     "output_type": "execute_result"
    }
   ],
   "source": [
    "OrderForm[\"Phillippines\"]  # [1 : Error Free, 0: Defective]\n",
    "        "
   ]
  },
  {
   "cell_type": "code",
   "execution_count": 24,
   "id": "181cb99a",
   "metadata": {
    "ExecuteTime": {
     "end_time": "2023-03-01T19:10:57.473567Z",
     "start_time": "2023-03-01T19:10:57.444447Z"
    }
   },
   "outputs": [
    {
     "data": {
      "text/plain": [
       "1    271\n",
       "0     29\n",
       "Name: Phillippines, dtype: int64"
      ]
     },
     "execution_count": 24,
     "metadata": {},
     "output_type": "execute_result"
    }
   ],
   "source": [
    "OrderForm[\"Phillippines\"].value_counts()"
   ]
  },
  {
   "cell_type": "code",
   "execution_count": 25,
   "id": "d559542b",
   "metadata": {
    "ExecuteTime": {
     "end_time": "2023-03-01T19:10:57.507479Z",
     "start_time": "2023-03-01T19:10:57.475056Z"
    }
   },
   "outputs": [
    {
     "data": {
      "text/plain": [
       "1    267\n",
       "0     33\n",
       "Name: Indonesia, dtype: int64"
      ]
     },
     "execution_count": 25,
     "metadata": {},
     "output_type": "execute_result"
    }
   ],
   "source": [
    "OrderForm[\"Indonesia\"].value_counts()"
   ]
  },
  {
   "cell_type": "code",
   "execution_count": 26,
   "id": "19826a10",
   "metadata": {
    "ExecuteTime": {
     "end_time": "2023-03-01T19:10:57.540377Z",
     "start_time": "2023-03-01T19:10:57.512599Z"
    }
   },
   "outputs": [
    {
     "data": {
      "text/plain": [
       "1    269\n",
       "0     31\n",
       "Name: Malta, dtype: int64"
      ]
     },
     "execution_count": 26,
     "metadata": {},
     "output_type": "execute_result"
    }
   ],
   "source": [
    "OrderForm[\"Malta\"].value_counts()"
   ]
  },
  {
   "cell_type": "code",
   "execution_count": 27,
   "id": "ef7b2c51",
   "metadata": {
    "ExecuteTime": {
     "end_time": "2023-03-01T19:10:57.573678Z",
     "start_time": "2023-03-01T19:10:57.541970Z"
    }
   },
   "outputs": [
    {
     "data": {
      "text/plain": [
       "1    280\n",
       "0     20\n",
       "Name: India, dtype: int64"
      ]
     },
     "execution_count": 27,
     "metadata": {},
     "output_type": "execute_result"
    }
   ],
   "source": [
    "OrderForm[\"India\"].value_counts()    # [1: Error Free, 0: Defective]"
   ]
  },
  {
   "cell_type": "code",
   "execution_count": 28,
   "id": "2b4958ad",
   "metadata": {
    "ExecuteTime": {
     "end_time": "2023-03-01T19:10:57.607502Z",
     "start_time": "2023-03-01T19:10:57.575144Z"
    }
   },
   "outputs": [
    {
     "data": {
      "text/plain": [
       "array([[271, 267, 269, 280],\n",
       "       [ 29,  33,  31,  20]])"
      ]
     },
     "execution_count": 28,
     "metadata": {},
     "output_type": "execute_result"
    }
   ],
   "source": [
    "# Make a Contingency Table\n",
    "obs=np.array([[271,267,269,280],[29,33,31,20]])\n",
    "obs"
   ]
  },
  {
   "cell_type": "code",
   "execution_count": 29,
   "id": "89297b3d",
   "metadata": {
    "ExecuteTime": {
     "end_time": "2023-03-01T19:10:57.641456Z",
     "start_time": "2023-03-01T19:10:57.608963Z"
    }
   },
   "outputs": [
    {
     "data": {
      "text/plain": [
       "(3.858960685820355,\n",
       " 0.2771020991233135,\n",
       " 3,\n",
       " array([[271.75, 271.75, 271.75, 271.75],\n",
       "        [ 28.25,  28.25,  28.25,  28.25]]))"
      ]
     },
     "execution_count": 29,
     "metadata": {},
     "output_type": "execute_result"
    }
   ],
   "source": [
    "chi2 = chi2_contingency(obs)  # Return (Chi2 stats value,pvalue,df,expected obs)\n",
    "chi2"
   ]
  },
  {
   "cell_type": "code",
   "execution_count": 30,
   "id": "9f9b80e0",
   "metadata": {
    "ExecuteTime": {
     "end_time": "2023-03-01T19:10:57.672471Z",
     "start_time": "2023-03-01T19:10:57.641456Z"
    }
   },
   "outputs": [
    {
     "data": {
      "text/plain": [
       "0.2771020991233135"
      ]
     },
     "execution_count": 30,
     "metadata": {},
     "output_type": "execute_result"
    }
   ],
   "source": [
    "pvalue=chi2[1]\n",
    "pvalue"
   ]
  },
  {
   "cell_type": "markdown",
   "id": "32ce8269",
   "metadata": {},
   "source": [
    "\n",
    "- alpha(Significance level) = 5% = 0.05\n",
    "- pvalue = 0.2771\n",
    "- Comparing Both the values->>>>     pvalue>alpha(5% significance level)"
   ]
  },
  {
   "cell_type": "code",
   "execution_count": 31,
   "id": "4c5505fb",
   "metadata": {
    "ExecuteTime": {
     "end_time": "2023-03-01T19:10:57.690437Z",
     "start_time": "2023-03-01T19:10:57.675922Z"
    }
   },
   "outputs": [
    {
     "name": "stdout",
     "output_type": "stream",
     "text": [
      "Customer order forms defective % does not varies by centre.\n"
     ]
    }
   ],
   "source": [
    "# Decision: Failed to reject Null Hypothesis(Ho: Customer order forms defective % does not varies by centre.)\n",
    "print(\"Customer order forms defective % does not varies by centre.\")"
   ]
  },
  {
   "cell_type": "code",
   "execution_count": null,
   "id": "68277017",
   "metadata": {},
   "outputs": [],
   "source": []
  }
 ],
 "metadata": {
  "kernelspec": {
   "display_name": "Python 3 (ipykernel)",
   "language": "python",
   "name": "python3"
  },
  "language_info": {
   "codemirror_mode": {
    "name": "ipython",
    "version": 3
   },
   "file_extension": ".py",
   "mimetype": "text/x-python",
   "name": "python",
   "nbconvert_exporter": "python",
   "pygments_lexer": "ipython3",
   "version": "3.9.13"
  }
 },
 "nbformat": 4,
 "nbformat_minor": 5
}
